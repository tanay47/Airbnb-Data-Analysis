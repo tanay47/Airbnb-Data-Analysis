{
  "nbformat": 4,
  "nbformat_minor": 0,
  "metadata": {
    "kernelspec": {
      "display_name": "Python 3",
      "language": "python",
      "name": "python3"
    },
    "language_info": {
      "codemirror_mode": {
        "name": "ipython",
        "version": 3
      },
      "file_extension": ".py",
      "mimetype": "text/x-python",
      "name": "python",
      "nbconvert_exporter": "python",
      "pygments_lexer": "ipython3",
      "version": "3.6.6"
    },
    "colab": {
      "name": "Copy of Airbnb Bookings Analysis - Capstone Project.ipynb",
      "provenance": [],
      "collapsed_sections": [],
      "include_colab_link": true
    }
  },
  "cells": [
    {
      "cell_type": "markdown",
      "metadata": {
        "id": "view-in-github",
        "colab_type": "text"
      },
      "source": [
        "<a href=\"https://colab.research.google.com/github/tanay47/Airbnb-Data-Analysis/blob/main/Copy_of_Airbnb_Bookings_Analysis_Capstone_Project.ipynb\" target=\"_parent\"><img src=\"https://colab.research.google.com/assets/colab-badge.svg\" alt=\"Open In Colab\"/></a>"
      ]
    },
    {
      "cell_type": "markdown",
      "metadata": {
        "id": "Y06xIdG26kRF"
      },
      "source": [
        "## <b> Since 2008, guests and hosts have used Airbnb to expand on traveling possibilities and present a more unique, personalized way of experiencing the world. Today, Airbnb became one of a kind service that is used and recognized by the whole world. Data analysis on millions of listings provided through Airbnb is a crucial factor for the company. These millions of listings generate a lot of data - data that can be analyzed and used for security, business decisions, understanding of customers' and providers' (hosts) behavior and performance on the platform, guiding marketing initiatives, implementation of innovative additional services and much more. </b>\n",
        "\n",
        "## <b>This dataset has around 49,000 observations in it with 16 columns and it is a mix between categorical and numeric values. </b>\n",
        "\n",
        "## <b> Explore and analyze the data to discover key understandings (not limited to these) such as : \n",
        "* What can we learn about different hosts and areas?\n",
        "* What can we learn from predictions? (ex: locations, prices, reviews, etc)\n",
        "* Which hosts are the busiest and why?\n",
        "* Is there any noticeable difference of traffic among different areas and what could be the reason for it? </b>"
      ]
    },
    {
      "cell_type": "markdown",
      "metadata": {
        "id": "B0SvAO0IRF_m"
      },
      "source": [
        "### THIS IS A REALLY SIMPLE EDA ON AIRBNB DATASET WHICH WILL ANSWER BASIC QUERY USING VARIABLES OF THIS DATASET."
      ]
    },
    {
      "cell_type": "code",
      "metadata": {
        "id": "dByMsuzT8Tnw"
      },
      "source": [
        "### FIRST THINGS, FIRST. WHICH WILL GET OUR BOAT GOING.\n",
        "\n",
        "import numpy as np\n",
        "import pandas as pd\n",
        "import matplotlib.pyplot as plt\n",
        "import seaborn as sns\n",
        "%matplotlib inline"
      ],
      "execution_count": 1,
      "outputs": []
    },
    {
      "cell_type": "code",
      "metadata": {
        "colab": {
          "base_uri": "https://localhost:8080/"
        },
        "id": "WqfS3O0JS0I0",
        "outputId": "e6b9833a-7777-44a6-86b6-b87871dffac2"
      },
      "source": [
        "### MOUNTING NOTEBOOK TO DRIVE.\n",
        "\n",
        "from google.colab import drive\n",
        "drive.mount('/content/drive')"
      ],
      "execution_count": 2,
      "outputs": [
        {
          "output_type": "stream",
          "text": [
            "Mounted at /content/drive\n"
          ],
          "name": "stdout"
        }
      ]
    },
    {
      "cell_type": "code",
      "metadata": {
        "colab": {
          "base_uri": "https://localhost:8080/",
          "height": 253
        },
        "id": "T7tLuAx8RzTy",
        "outputId": "01af7620-2ac6-49a6-fcb5-02bd1c4a9343"
      },
      "source": [
        "### READING OUR DATASET. ALSO CHECKING USING head() FUNCTION.\n",
        "\n",
        "airbnb_df = pd.read_csv(\"/content/drive/MyDrive/Colab Notebooks/CS PROJECT 1 (EDA)/Copy of Airbnb NYC 2019.csv\")\n",
        "airbnb_df.head(2)"
      ],
      "execution_count": 3,
      "outputs": [
        {
          "output_type": "execute_result",
          "data": {
            "text/html": [
              "<div>\n",
              "<style scoped>\n",
              "    .dataframe tbody tr th:only-of-type {\n",
              "        vertical-align: middle;\n",
              "    }\n",
              "\n",
              "    .dataframe tbody tr th {\n",
              "        vertical-align: top;\n",
              "    }\n",
              "\n",
              "    .dataframe thead th {\n",
              "        text-align: right;\n",
              "    }\n",
              "</style>\n",
              "<table border=\"1\" class=\"dataframe\">\n",
              "  <thead>\n",
              "    <tr style=\"text-align: right;\">\n",
              "      <th></th>\n",
              "      <th>id</th>\n",
              "      <th>name</th>\n",
              "      <th>host_id</th>\n",
              "      <th>host_name</th>\n",
              "      <th>neighbourhood_group</th>\n",
              "      <th>neighbourhood</th>\n",
              "      <th>latitude</th>\n",
              "      <th>longitude</th>\n",
              "      <th>room_type</th>\n",
              "      <th>price</th>\n",
              "      <th>minimum_nights</th>\n",
              "      <th>number_of_reviews</th>\n",
              "      <th>last_review</th>\n",
              "      <th>reviews_per_month</th>\n",
              "      <th>calculated_host_listings_count</th>\n",
              "      <th>availability_365</th>\n",
              "    </tr>\n",
              "  </thead>\n",
              "  <tbody>\n",
              "    <tr>\n",
              "      <th>0</th>\n",
              "      <td>2539</td>\n",
              "      <td>Clean &amp; quiet apt home by the park</td>\n",
              "      <td>2787</td>\n",
              "      <td>John</td>\n",
              "      <td>Brooklyn</td>\n",
              "      <td>Kensington</td>\n",
              "      <td>40.64749</td>\n",
              "      <td>-73.97237</td>\n",
              "      <td>Private room</td>\n",
              "      <td>149</td>\n",
              "      <td>1</td>\n",
              "      <td>9</td>\n",
              "      <td>2018-10-19</td>\n",
              "      <td>0.21</td>\n",
              "      <td>6</td>\n",
              "      <td>365</td>\n",
              "    </tr>\n",
              "    <tr>\n",
              "      <th>1</th>\n",
              "      <td>2595</td>\n",
              "      <td>Skylit Midtown Castle</td>\n",
              "      <td>2845</td>\n",
              "      <td>Jennifer</td>\n",
              "      <td>Manhattan</td>\n",
              "      <td>Midtown</td>\n",
              "      <td>40.75362</td>\n",
              "      <td>-73.98377</td>\n",
              "      <td>Entire home/apt</td>\n",
              "      <td>225</td>\n",
              "      <td>1</td>\n",
              "      <td>45</td>\n",
              "      <td>2019-05-21</td>\n",
              "      <td>0.38</td>\n",
              "      <td>2</td>\n",
              "      <td>355</td>\n",
              "    </tr>\n",
              "  </tbody>\n",
              "</table>\n",
              "</div>"
            ],
            "text/plain": [
              "     id  ... availability_365\n",
              "0  2539  ...              365\n",
              "1  2595  ...              355\n",
              "\n",
              "[2 rows x 16 columns]"
            ]
          },
          "metadata": {
            "tags": []
          },
          "execution_count": 3
        }
      ]
    },
    {
      "cell_type": "code",
      "metadata": {
        "colab": {
          "base_uri": "https://localhost:8080/"
        },
        "id": "bRrG6oUsRzSQ",
        "outputId": "d136d144-e341-4b2f-d4b0-a5ab1d891e6d"
      },
      "source": [
        "### GLANCING AT ALL COLUMNS OF DATASET, CHECKING FOR UNWANTED CATEGORIES/COLUMNS.\n",
        "\n",
        "airbnb_df_columns = airbnb_df.columns\n",
        "airbnb_df_columns"
      ],
      "execution_count": 4,
      "outputs": [
        {
          "output_type": "execute_result",
          "data": {
            "text/plain": [
              "Index(['id', 'name', 'host_id', 'host_name', 'neighbourhood_group',\n",
              "       'neighbourhood', 'latitude', 'longitude', 'room_type', 'price',\n",
              "       'minimum_nights', 'number_of_reviews', 'last_review',\n",
              "       'reviews_per_month', 'calculated_host_listings_count',\n",
              "       'availability_365'],\n",
              "      dtype='object')"
            ]
          },
          "metadata": {
            "tags": []
          },
          "execution_count": 4
        }
      ]
    },
    {
      "cell_type": "code",
      "metadata": {
        "id": "oDi6HkfPj8Fv"
      },
      "source": [
        "### DROPPING UNWANED COLUMNS 'latitude', 'longitude' TO HAVE A PRECISE DATASET.\n",
        "\n",
        "airbnb_df = airbnb_df.drop(['latitude', 'longitude','last_review'], axis=1)"
      ],
      "execution_count": 5,
      "outputs": []
    },
    {
      "cell_type": "code",
      "metadata": {
        "colab": {
          "base_uri": "https://localhost:8080/"
        },
        "id": "_9w80rhrmKNr",
        "outputId": "e2486112-59b4-4568-b911-90c87ef1ff8d"
      },
      "source": [
        "### TO HAVE A SENSIBLE DATA TO WORK WITH, WE WILL CHECK AND ELIMINATE DUPLICATE OBSERVATIONS/RECORDS.\n",
        "\n",
        "dupli_rows_df = airbnb_df[airbnb_df.duplicated()]\n",
        "print(f\"No of duplicate record is\", {dupli_rows_df.shape}) "
      ],
      "execution_count": 6,
      "outputs": [
        {
          "output_type": "stream",
          "text": [
            "No of duplicate record is {(0, 13)}\n"
          ],
          "name": "stdout"
        }
      ]
    },
    {
      "cell_type": "markdown",
      "metadata": {
        "id": "fDMeyBBsll6P"
      },
      "source": [
        "GREAT, WE HAVE NO DUPLICATE RECORDS OR OBSERVATIONS. SO, MOVING AHED. "
      ]
    },
    {
      "cell_type": "markdown",
      "metadata": {
        "id": "f6gzZ-p60fx8"
      },
      "source": [
        "### WE'LL ALSO HAVE TO TAKE CARE OF MISSING DATA, NULL VALUES.\n"
      ]
    },
    {
      "cell_type": "code",
      "metadata": {
        "colab": {
          "base_uri": "https://localhost:8080/"
        },
        "id": "u0AspTWyrMBX",
        "outputId": "194d1a6b-fb8c-45cd-f7cd-106fa0290f77"
      },
      "source": [
        "### CHECK FOR MISSING DATA, NULL VALUES. ALSO REPLACING THEM WITH APPROPRIATE DATA.\n",
        "\n",
        "airbnb_df.isnull().sum()"
      ],
      "execution_count": 7,
      "outputs": [
        {
          "output_type": "execute_result",
          "data": {
            "text/plain": [
              "id                                    0\n",
              "name                                 16\n",
              "host_id                               0\n",
              "host_name                            21\n",
              "neighbourhood_group                   0\n",
              "neighbourhood                         0\n",
              "room_type                             0\n",
              "price                                 0\n",
              "minimum_nights                        0\n",
              "number_of_reviews                     0\n",
              "reviews_per_month                 10052\n",
              "calculated_host_listings_count        0\n",
              "availability_365                      0\n",
              "dtype: int64"
            ]
          },
          "metadata": {
            "tags": []
          },
          "execution_count": 7
        }
      ]
    },
    {
      "cell_type": "markdown",
      "metadata": {
        "id": "rMQeM_sG05Mf"
      },
      "source": [
        "ANALYSING FROM ABOVE DATA, WE CAN ELEMINATE NULL OBSERVATIONS FROM COLUMNS [\"names\", \"host_name\"],  AS ELEMINATING THEM WILL NOT CAUSE ANY DISTURBING CHANGE IN DATA."
      ]
    },
    {
      "cell_type": "code",
      "metadata": {
        "id": "NAtFlZLG8nJq"
      },
      "source": [
        "### ELEMINATING ALL NULL VALUES FROM COLUMNS  \"name\" AND \"host_name\".\n",
        "\n",
        "airbnb_df.dropna(subset = [\"name\",\"host_name\"], inplace=True)"
      ],
      "execution_count": 8,
      "outputs": []
    },
    {
      "cell_type": "code",
      "metadata": {
        "colab": {
          "base_uri": "https://localhost:8080/"
        },
        "id": "djTI6KOzFjxi",
        "outputId": "ca7bca9a-512b-4f93-865b-17b52a2ce790"
      },
      "source": [
        "### SUBSTITUTING \"0\" IN ALL \"NAN\" VALUES IN COLUMN \"reviews_per_month\".\n",
        "\n",
        "airbnb_df.fillna(0,inplace=True)\n",
        "\n",
        "### CONFIRMING IF ALL THE \"NAN\" VALUES ARE REPLACED.\n",
        "airbnb_df.isna().sum()"
      ],
      "execution_count": 9,
      "outputs": [
        {
          "output_type": "execute_result",
          "data": {
            "text/plain": [
              "id                                0\n",
              "name                              0\n",
              "host_id                           0\n",
              "host_name                         0\n",
              "neighbourhood_group               0\n",
              "neighbourhood                     0\n",
              "room_type                         0\n",
              "price                             0\n",
              "minimum_nights                    0\n",
              "number_of_reviews                 0\n",
              "reviews_per_month                 0\n",
              "calculated_host_listings_count    0\n",
              "availability_365                  0\n",
              "dtype: int64"
            ]
          },
          "metadata": {
            "tags": []
          },
          "execution_count": 9
        }
      ]
    },
    {
      "cell_type": "markdown",
      "metadata": {
        "id": "0HCOSfFJHCzp"
      },
      "source": [
        "GREAT, AT THIS POINT WE HAVE TAKEN CARE OF ALL \"NAN\" VALUES."
      ]
    },
    {
      "cell_type": "markdown",
      "metadata": {
        "id": "_iEQmaS1HtWH"
      },
      "source": [
        "LASTLY WE SHOULD ALSO CHECK FOR OUTLIERS FOR RELEVENT COLUMNS."
      ]
    },
    {
      "cell_type": "code",
      "metadata": {
        "colab": {
          "base_uri": "https://localhost:8080/"
        },
        "id": "dsrMpmh4RzOp",
        "outputId": "b31bff73-78fc-4801-ebf4-3270dd08cdfd"
      },
      "source": [
        "### EXTRACTING INFO FROM DATAFRAME USING info() finction.\n",
        "\n",
        "airbnb_df.info()"
      ],
      "execution_count": 11,
      "outputs": [
        {
          "output_type": "stream",
          "text": [
            "<class 'pandas.core.frame.DataFrame'>\n",
            "Int64Index: 48858 entries, 0 to 48894\n",
            "Data columns (total 13 columns):\n",
            " #   Column                          Non-Null Count  Dtype  \n",
            "---  ------                          --------------  -----  \n",
            " 0   id                              48858 non-null  int64  \n",
            " 1   name                            48858 non-null  object \n",
            " 2   host_id                         48858 non-null  int64  \n",
            " 3   host_name                       48858 non-null  object \n",
            " 4   neighbourhood_group             48858 non-null  object \n",
            " 5   neighbourhood                   48858 non-null  object \n",
            " 6   room_type                       48858 non-null  object \n",
            " 7   price                           48858 non-null  int64  \n",
            " 8   minimum_nights                  48858 non-null  int64  \n",
            " 9   number_of_reviews               48858 non-null  int64  \n",
            " 10  reviews_per_month               48858 non-null  float64\n",
            " 11  calculated_host_listings_count  48858 non-null  int64  \n",
            " 12  availability_365                48858 non-null  int64  \n",
            "dtypes: float64(1), int64(7), object(5)\n",
            "memory usage: 5.2+ MB\n"
          ],
          "name": "stdout"
        }
      ]
    }
  ]
}