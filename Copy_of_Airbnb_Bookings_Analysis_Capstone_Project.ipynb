{
  "nbformat": 4,
  "nbformat_minor": 0,
  "metadata": {
    "kernelspec": {
      "display_name": "Python 3",
      "language": "python",
      "name": "python3"
    },
    "language_info": {
      "codemirror_mode": {
        "name": "ipython",
        "version": 3
      },
      "file_extension": ".py",
      "mimetype": "text/x-python",
      "name": "python",
      "nbconvert_exporter": "python",
      "pygments_lexer": "ipython3",
      "version": "3.6.6"
    },
    "colab": {
      "name": "Copy of Airbnb Bookings Analysis - Capstone Project.ipynb",
      "provenance": [],
      "collapsed_sections": [],
      "include_colab_link": true
    }
  },
  "cells": [
    {
      "cell_type": "markdown",
      "metadata": {
        "id": "view-in-github",
        "colab_type": "text"
      },
      "source": [
        "<a href=\"https://colab.research.google.com/github/tanay47/Airbnb-Data-Analysis/blob/main/Copy_of_Airbnb_Bookings_Analysis_Capstone_Project.ipynb\" target=\"_parent\"><img src=\"https://colab.research.google.com/assets/colab-badge.svg\" alt=\"Open In Colab\"/></a>"
      ]
    },
    {
      "cell_type": "markdown",
      "metadata": {
        "id": "Y06xIdG26kRF"
      },
      "source": [
        "## <b> Since 2008, guests and hosts have used Airbnb to expand on traveling possibilities and present a more unique, personalized way of experiencing the world. Today, Airbnb became one of a kind service that is used and recognized by the whole world. Data analysis on millions of listings provided through Airbnb is a crucial factor for the company. These millions of listings generate a lot of data - data that can be analyzed and used for security, business decisions, understanding of customers' and providers' (hosts) behavior and performance on the platform, guiding marketing initiatives, implementation of innovative additional services and much more. </b>\n",
        "\n",
        "## <b>This dataset has around 49,000 observations in it with 16 columns and it is a mix between categorical and numeric values. </b>\n",
        "\n",
        "## <b> Explore and analyze the data to discover key understandings (not limited to these) such as : \n",
        "* What can we learn about different hosts and areas?\n",
        "* What can we learn from predictions? (ex: locations, prices, reviews, etc)\n",
        "* Which hosts are the busiest and why?\n",
        "* Is there any noticeable difference of traffic among different areas and what could be the reason for it? </b>"
      ]
    },
    {
      "cell_type": "markdown",
      "metadata": {
        "id": "B0SvAO0IRF_m"
      },
      "source": [
        "### THIS IS A REALLY SIMPLE EDA ON AIRBNB DATASET WHICH WILL ANSWER BASIC QUERY USING VARIABLES OF THIS DATASET."
      ]
    },
    {
      "cell_type": "code",
      "metadata": {
        "id": "dByMsuzT8Tnw"
      },
      "source": [
        "### FIRST THINGS, FIRST. WHICH WILL GET OUR BOAT GOING.\n",
        "\n",
        "import numpy as np\n",
        "import pandas as pd\n",
        "import matplotlib.pyplot as plt\n",
        "import seaborn as sns\n",
        "%matplotlib inline"
      ],
      "execution_count": 1,
      "outputs": []
    },
    {
      "cell_type": "code",
      "metadata": {
        "colab": {
          "base_uri": "https://localhost:8080/"
        },
        "id": "WqfS3O0JS0I0",
        "outputId": "5576ea3e-6c54-4229-a1c6-7650c7d909b5"
      },
      "source": [
        "### MOUNTING NOTEBOOK TO DRIVE.\n",
        "\n",
        "from google.colab import drive\n",
        "drive.mount('/content/drive')"
      ],
      "execution_count": 2,
      "outputs": [
        {
          "output_type": "stream",
          "text": [
            "Mounted at /content/drive\n"
          ],
          "name": "stdout"
        }
      ]
    },
    {
      "cell_type": "code",
      "metadata": {
        "colab": {
          "base_uri": "https://localhost:8080/",
          "height": 415
        },
        "id": "T7tLuAx8RzTy",
        "outputId": "351f1982-6658-440a-ac8b-08627ff158de"
      },
      "source": [
        "### READING OUR DATASET. ALSO CHECKING USING head() FUNCTION.\n",
        "\n",
        "airbnb_df = pd.read_csv(\"/content/drive/MyDrive/Colab Notebooks/Module 1/CS PROJECT 1 (EDA)/Copy of Airbnb NYC 2019.csv\")\n",
        "airbnb_df.head()"
      ],
      "execution_count": 3,
      "outputs": [
        {
          "output_type": "execute_result",
          "data": {
            "text/html": [
              "<div>\n",
              "<style scoped>\n",
              "    .dataframe tbody tr th:only-of-type {\n",
              "        vertical-align: middle;\n",
              "    }\n",
              "\n",
              "    .dataframe tbody tr th {\n",
              "        vertical-align: top;\n",
              "    }\n",
              "\n",
              "    .dataframe thead th {\n",
              "        text-align: right;\n",
              "    }\n",
              "</style>\n",
              "<table border=\"1\" class=\"dataframe\">\n",
              "  <thead>\n",
              "    <tr style=\"text-align: right;\">\n",
              "      <th></th>\n",
              "      <th>id</th>\n",
              "      <th>name</th>\n",
              "      <th>host_id</th>\n",
              "      <th>host_name</th>\n",
              "      <th>neighbourhood_group</th>\n",
              "      <th>neighbourhood</th>\n",
              "      <th>latitude</th>\n",
              "      <th>longitude</th>\n",
              "      <th>room_type</th>\n",
              "      <th>price</th>\n",
              "      <th>minimum_nights</th>\n",
              "      <th>number_of_reviews</th>\n",
              "      <th>last_review</th>\n",
              "      <th>reviews_per_month</th>\n",
              "      <th>calculated_host_listings_count</th>\n",
              "      <th>availability_365</th>\n",
              "    </tr>\n",
              "  </thead>\n",
              "  <tbody>\n",
              "    <tr>\n",
              "      <th>0</th>\n",
              "      <td>2539</td>\n",
              "      <td>Clean &amp; quiet apt home by the park</td>\n",
              "      <td>2787</td>\n",
              "      <td>John</td>\n",
              "      <td>Brooklyn</td>\n",
              "      <td>Kensington</td>\n",
              "      <td>40.64749</td>\n",
              "      <td>-73.97237</td>\n",
              "      <td>Private room</td>\n",
              "      <td>149</td>\n",
              "      <td>1</td>\n",
              "      <td>9</td>\n",
              "      <td>2018-10-19</td>\n",
              "      <td>0.21</td>\n",
              "      <td>6</td>\n",
              "      <td>365</td>\n",
              "    </tr>\n",
              "    <tr>\n",
              "      <th>1</th>\n",
              "      <td>2595</td>\n",
              "      <td>Skylit Midtown Castle</td>\n",
              "      <td>2845</td>\n",
              "      <td>Jennifer</td>\n",
              "      <td>Manhattan</td>\n",
              "      <td>Midtown</td>\n",
              "      <td>40.75362</td>\n",
              "      <td>-73.98377</td>\n",
              "      <td>Entire home/apt</td>\n",
              "      <td>225</td>\n",
              "      <td>1</td>\n",
              "      <td>45</td>\n",
              "      <td>2019-05-21</td>\n",
              "      <td>0.38</td>\n",
              "      <td>2</td>\n",
              "      <td>355</td>\n",
              "    </tr>\n",
              "    <tr>\n",
              "      <th>2</th>\n",
              "      <td>3647</td>\n",
              "      <td>THE VILLAGE OF HARLEM....NEW YORK !</td>\n",
              "      <td>4632</td>\n",
              "      <td>Elisabeth</td>\n",
              "      <td>Manhattan</td>\n",
              "      <td>Harlem</td>\n",
              "      <td>40.80902</td>\n",
              "      <td>-73.94190</td>\n",
              "      <td>Private room</td>\n",
              "      <td>150</td>\n",
              "      <td>3</td>\n",
              "      <td>0</td>\n",
              "      <td>NaN</td>\n",
              "      <td>NaN</td>\n",
              "      <td>1</td>\n",
              "      <td>365</td>\n",
              "    </tr>\n",
              "    <tr>\n",
              "      <th>3</th>\n",
              "      <td>3831</td>\n",
              "      <td>Cozy Entire Floor of Brownstone</td>\n",
              "      <td>4869</td>\n",
              "      <td>LisaRoxanne</td>\n",
              "      <td>Brooklyn</td>\n",
              "      <td>Clinton Hill</td>\n",
              "      <td>40.68514</td>\n",
              "      <td>-73.95976</td>\n",
              "      <td>Entire home/apt</td>\n",
              "      <td>89</td>\n",
              "      <td>1</td>\n",
              "      <td>270</td>\n",
              "      <td>2019-07-05</td>\n",
              "      <td>4.64</td>\n",
              "      <td>1</td>\n",
              "      <td>194</td>\n",
              "    </tr>\n",
              "    <tr>\n",
              "      <th>4</th>\n",
              "      <td>5022</td>\n",
              "      <td>Entire Apt: Spacious Studio/Loft by central park</td>\n",
              "      <td>7192</td>\n",
              "      <td>Laura</td>\n",
              "      <td>Manhattan</td>\n",
              "      <td>East Harlem</td>\n",
              "      <td>40.79851</td>\n",
              "      <td>-73.94399</td>\n",
              "      <td>Entire home/apt</td>\n",
              "      <td>80</td>\n",
              "      <td>10</td>\n",
              "      <td>9</td>\n",
              "      <td>2018-11-19</td>\n",
              "      <td>0.10</td>\n",
              "      <td>1</td>\n",
              "      <td>0</td>\n",
              "    </tr>\n",
              "  </tbody>\n",
              "</table>\n",
              "</div>"
            ],
            "text/plain": [
              "     id  ... availability_365\n",
              "0  2539  ...              365\n",
              "1  2595  ...              355\n",
              "2  3647  ...              365\n",
              "3  3831  ...              194\n",
              "4  5022  ...                0\n",
              "\n",
              "[5 rows x 16 columns]"
            ]
          },
          "metadata": {
            "tags": []
          },
          "execution_count": 3
        }
      ]
    },
    {
      "cell_type": "code",
      "metadata": {
        "colab": {
          "base_uri": "https://localhost:8080/"
        },
        "id": "-oJJH8KmrsUB",
        "outputId": "751d53ec-0e4c-4cea-c894-128fb7455d25"
      },
      "source": [
        "### EXTRACTING INFO FROM DATAFRAME USING info() finction.\n",
        "\n",
        "airbnb_df.info()"
      ],
      "execution_count": 4,
      "outputs": [
        {
          "output_type": "stream",
          "text": [
            "<class 'pandas.core.frame.DataFrame'>\n",
            "RangeIndex: 48895 entries, 0 to 48894\n",
            "Data columns (total 16 columns):\n",
            " #   Column                          Non-Null Count  Dtype  \n",
            "---  ------                          --------------  -----  \n",
            " 0   id                              48895 non-null  int64  \n",
            " 1   name                            48879 non-null  object \n",
            " 2   host_id                         48895 non-null  int64  \n",
            " 3   host_name                       48874 non-null  object \n",
            " 4   neighbourhood_group             48895 non-null  object \n",
            " 5   neighbourhood                   48895 non-null  object \n",
            " 6   latitude                        48895 non-null  float64\n",
            " 7   longitude                       48895 non-null  float64\n",
            " 8   room_type                       48895 non-null  object \n",
            " 9   price                           48895 non-null  int64  \n",
            " 10  minimum_nights                  48895 non-null  int64  \n",
            " 11  number_of_reviews               48895 non-null  int64  \n",
            " 12  last_review                     38843 non-null  object \n",
            " 13  reviews_per_month               38843 non-null  float64\n",
            " 14  calculated_host_listings_count  48895 non-null  int64  \n",
            " 15  availability_365                48895 non-null  int64  \n",
            "dtypes: float64(3), int64(7), object(6)\n",
            "memory usage: 6.0+ MB\n"
          ],
          "name": "stdout"
        }
      ]
    },
    {
      "cell_type": "code",
      "metadata": {
        "colab": {
          "base_uri": "https://localhost:8080/"
        },
        "id": "bRrG6oUsRzSQ",
        "outputId": "644fafa2-955a-44a6-f314-17cc0bfce85f"
      },
      "source": [
        "### GLANCING AT ALL COLUMNS OF DATASET, CHECKING FOR UNWANTED CATEGORIES/COLUMNS.\n",
        "\n",
        "airbnb_df_columns = airbnb_df.columns\n",
        "airbnb_df_columns"
      ],
      "execution_count": 5,
      "outputs": [
        {
          "output_type": "execute_result",
          "data": {
            "text/plain": [
              "Index(['id', 'name', 'host_id', 'host_name', 'neighbourhood_group',\n",
              "       'neighbourhood', 'latitude', 'longitude', 'room_type', 'price',\n",
              "       'minimum_nights', 'number_of_reviews', 'last_review',\n",
              "       'reviews_per_month', 'calculated_host_listings_count',\n",
              "       'availability_365'],\n",
              "      dtype='object')"
            ]
          },
          "metadata": {
            "tags": []
          },
          "execution_count": 5
        }
      ]
    },
    {
      "cell_type": "code",
      "metadata": {
        "id": "oDi6HkfPj8Fv"
      },
      "source": [
        "### DROPPING UNWANED COLUMNS 'latitude', 'longitude' TO HAVE A PRECISE DATASET.\n",
        "\n",
        "airbnb_df = airbnb_df.drop(['id','last_review'], axis=1)"
      ],
      "execution_count": 6,
      "outputs": []
    },
    {
      "cell_type": "code",
      "metadata": {
        "colab": {
          "base_uri": "https://localhost:8080/"
        },
        "id": "_9w80rhrmKNr",
        "outputId": "be2c3cfe-668f-421f-db9d-9ef0f25288da"
      },
      "source": [
        "### TO HAVE A SENSIBLE DATA TO WORK WITH, WE WILL CHECK AND ELIMINATE DUPLICATE OBSERVATIONS/RECORDS.\n",
        "\n",
        "dupli_rows_df = airbnb_df[airbnb_df.duplicated()]\n",
        "print(f\"No of duplicate record is\", {dupli_rows_df.shape}) "
      ],
      "execution_count": 7,
      "outputs": [
        {
          "output_type": "stream",
          "text": [
            "No of duplicate record is {(0, 14)}\n"
          ],
          "name": "stdout"
        }
      ]
    },
    {
      "cell_type": "markdown",
      "metadata": {
        "id": "fDMeyBBsll6P"
      },
      "source": [
        "GREAT, WE HAVE NO DUPLICATE RECORDS OR OBSERVATIONS. SO, MOVING AHED. "
      ]
    },
    {
      "cell_type": "markdown",
      "metadata": {
        "id": "f6gzZ-p60fx8"
      },
      "source": [
        "### WE'LL ALSO HAVE TO TAKE CARE OF MISSING DATA, NULL VALUES.\n"
      ]
    },
    {
      "cell_type": "code",
      "metadata": {
        "colab": {
          "base_uri": "https://localhost:8080/"
        },
        "id": "u0AspTWyrMBX",
        "outputId": "e965499f-3610-4bb7-969c-0cfab0f30b20"
      },
      "source": [
        "### CHECK FOR MISSING DATA, NULL VALUES. ALSO REPLACING THEM WITH APPROPRIATE DATA.\n",
        "\n",
        "airbnb_df.isnull().sum()"
      ],
      "execution_count": 8,
      "outputs": [
        {
          "output_type": "execute_result",
          "data": {
            "text/plain": [
              "name                                 16\n",
              "host_id                               0\n",
              "host_name                            21\n",
              "neighbourhood_group                   0\n",
              "neighbourhood                         0\n",
              "latitude                              0\n",
              "longitude                             0\n",
              "room_type                             0\n",
              "price                                 0\n",
              "minimum_nights                        0\n",
              "number_of_reviews                     0\n",
              "reviews_per_month                 10052\n",
              "calculated_host_listings_count        0\n",
              "availability_365                      0\n",
              "dtype: int64"
            ]
          },
          "metadata": {
            "tags": []
          },
          "execution_count": 8
        }
      ]
    },
    {
      "cell_type": "markdown",
      "metadata": {
        "id": "rMQeM_sG05Mf"
      },
      "source": [
        "ANALYSING FROM ABOVE DATA, WE CAN ELEMINATE NULL OBSERVATIONS FROM COLUMNS [\"names\", \"host_name\"],  AS ELEMINATING THEM WILL NOT CAUSE ANY DISTURBING CHANGE IN DATA."
      ]
    },
    {
      "cell_type": "code",
      "metadata": {
        "id": "NAtFlZLG8nJq"
      },
      "source": [
        "### ELEMINATING ALL NULL VALUES FROM COLUMNS  \"name\" AND \"host_name\".\n",
        "\n",
        "airbnb_df.dropna(subset = [\"name\",\"host_name\"], inplace=True)"
      ],
      "execution_count": 9,
      "outputs": []
    },
    {
      "cell_type": "code",
      "metadata": {
        "colab": {
          "base_uri": "https://localhost:8080/"
        },
        "id": "djTI6KOzFjxi",
        "outputId": "c8762f23-b1c2-4074-d76f-d3ce0341efee"
      },
      "source": [
        "### SUBSTITUTING \"0\" IN ALL \"NAN\" VALUES IN COLUMN \"reviews_per_month\".\n",
        "\n",
        "airbnb_df.fillna(0,inplace=True)\n",
        "\n",
        "\n",
        "### CONFIRMING IF ALL THE \"NAN\" VALUES ARE REPLACED.\n",
        "airbnb_df.isna().sum()\n"
      ],
      "execution_count": 10,
      "outputs": [
        {
          "output_type": "execute_result",
          "data": {
            "text/plain": [
              "name                              0\n",
              "host_id                           0\n",
              "host_name                         0\n",
              "neighbourhood_group               0\n",
              "neighbourhood                     0\n",
              "latitude                          0\n",
              "longitude                         0\n",
              "room_type                         0\n",
              "price                             0\n",
              "minimum_nights                    0\n",
              "number_of_reviews                 0\n",
              "reviews_per_month                 0\n",
              "calculated_host_listings_count    0\n",
              "availability_365                  0\n",
              "dtype: int64"
            ]
          },
          "metadata": {
            "tags": []
          },
          "execution_count": 10
        }
      ]
    },
    {
      "cell_type": "markdown",
      "metadata": {
        "id": "0HCOSfFJHCzp"
      },
      "source": [
        "GREAT, AT THIS POINT WE HAVE TAKEN CARE OF ALL \"NAN\" VALUES."
      ]
    },
    {
      "cell_type": "markdown",
      "metadata": {
        "id": "_iEQmaS1HtWH"
      },
      "source": [
        "LASTLY WE SHOULD ALSO CHECK FOR OUTLIERS FOR RELEVENT COLUMNS."
      ]
    },
    {
      "cell_type": "code",
      "metadata": {
        "colab": {
          "base_uri": "https://localhost:8080/",
          "height": 319
        },
        "id": "AAW3X5ql135S",
        "outputId": "62fabfee-2467-480c-c934-d24272caee5f"
      },
      "source": [
        "airbnb_df.describe()"
      ],
      "execution_count": 11,
      "outputs": [
        {
          "output_type": "execute_result",
          "data": {
            "text/html": [
              "<div>\n",
              "<style scoped>\n",
              "    .dataframe tbody tr th:only-of-type {\n",
              "        vertical-align: middle;\n",
              "    }\n",
              "\n",
              "    .dataframe tbody tr th {\n",
              "        vertical-align: top;\n",
              "    }\n",
              "\n",
              "    .dataframe thead th {\n",
              "        text-align: right;\n",
              "    }\n",
              "</style>\n",
              "<table border=\"1\" class=\"dataframe\">\n",
              "  <thead>\n",
              "    <tr style=\"text-align: right;\">\n",
              "      <th></th>\n",
              "      <th>host_id</th>\n",
              "      <th>latitude</th>\n",
              "      <th>longitude</th>\n",
              "      <th>price</th>\n",
              "      <th>minimum_nights</th>\n",
              "      <th>number_of_reviews</th>\n",
              "      <th>reviews_per_month</th>\n",
              "      <th>calculated_host_listings_count</th>\n",
              "      <th>availability_365</th>\n",
              "    </tr>\n",
              "  </thead>\n",
              "  <tbody>\n",
              "    <tr>\n",
              "      <th>count</th>\n",
              "      <td>4.885800e+04</td>\n",
              "      <td>48858.000000</td>\n",
              "      <td>48858.000000</td>\n",
              "      <td>48858.000000</td>\n",
              "      <td>48858.000000</td>\n",
              "      <td>48858.000000</td>\n",
              "      <td>48858.000000</td>\n",
              "      <td>48858.000000</td>\n",
              "      <td>48858.000000</td>\n",
              "    </tr>\n",
              "    <tr>\n",
              "      <th>mean</th>\n",
              "      <td>6.763169e+07</td>\n",
              "      <td>40.728941</td>\n",
              "      <td>-73.952170</td>\n",
              "      <td>152.740309</td>\n",
              "      <td>7.012444</td>\n",
              "      <td>23.273098</td>\n",
              "      <td>1.091124</td>\n",
              "      <td>7.148369</td>\n",
              "      <td>112.801425</td>\n",
              "    </tr>\n",
              "    <tr>\n",
              "      <th>std</th>\n",
              "      <td>7.862389e+07</td>\n",
              "      <td>0.054528</td>\n",
              "      <td>0.046159</td>\n",
              "      <td>240.232386</td>\n",
              "      <td>20.019757</td>\n",
              "      <td>44.549898</td>\n",
              "      <td>1.597270</td>\n",
              "      <td>32.964600</td>\n",
              "      <td>131.610962</td>\n",
              "    </tr>\n",
              "    <tr>\n",
              "      <th>min</th>\n",
              "      <td>2.438000e+03</td>\n",
              "      <td>40.499790</td>\n",
              "      <td>-74.244420</td>\n",
              "      <td>0.000000</td>\n",
              "      <td>1.000000</td>\n",
              "      <td>0.000000</td>\n",
              "      <td>0.000000</td>\n",
              "      <td>1.000000</td>\n",
              "      <td>0.000000</td>\n",
              "    </tr>\n",
              "    <tr>\n",
              "      <th>25%</th>\n",
              "      <td>7.818669e+06</td>\n",
              "      <td>40.690090</td>\n",
              "      <td>-73.983070</td>\n",
              "      <td>69.000000</td>\n",
              "      <td>1.000000</td>\n",
              "      <td>1.000000</td>\n",
              "      <td>0.040000</td>\n",
              "      <td>1.000000</td>\n",
              "      <td>0.000000</td>\n",
              "    </tr>\n",
              "    <tr>\n",
              "      <th>50%</th>\n",
              "      <td>3.079133e+07</td>\n",
              "      <td>40.723070</td>\n",
              "      <td>-73.955680</td>\n",
              "      <td>106.000000</td>\n",
              "      <td>3.000000</td>\n",
              "      <td>5.000000</td>\n",
              "      <td>0.370000</td>\n",
              "      <td>1.000000</td>\n",
              "      <td>45.000000</td>\n",
              "    </tr>\n",
              "    <tr>\n",
              "      <th>75%</th>\n",
              "      <td>1.074344e+08</td>\n",
              "      <td>40.763107</td>\n",
              "      <td>-73.936280</td>\n",
              "      <td>175.000000</td>\n",
              "      <td>5.000000</td>\n",
              "      <td>24.000000</td>\n",
              "      <td>1.580000</td>\n",
              "      <td>2.000000</td>\n",
              "      <td>227.000000</td>\n",
              "    </tr>\n",
              "    <tr>\n",
              "      <th>max</th>\n",
              "      <td>2.743213e+08</td>\n",
              "      <td>40.913060</td>\n",
              "      <td>-73.712990</td>\n",
              "      <td>10000.000000</td>\n",
              "      <td>1250.000000</td>\n",
              "      <td>629.000000</td>\n",
              "      <td>58.500000</td>\n",
              "      <td>327.000000</td>\n",
              "      <td>365.000000</td>\n",
              "    </tr>\n",
              "  </tbody>\n",
              "</table>\n",
              "</div>"
            ],
            "text/plain": [
              "            host_id  ...  availability_365\n",
              "count  4.885800e+04  ...      48858.000000\n",
              "mean   6.763169e+07  ...        112.801425\n",
              "std    7.862389e+07  ...        131.610962\n",
              "min    2.438000e+03  ...          0.000000\n",
              "25%    7.818669e+06  ...          0.000000\n",
              "50%    3.079133e+07  ...         45.000000\n",
              "75%    1.074344e+08  ...        227.000000\n",
              "max    2.743213e+08  ...        365.000000\n",
              "\n",
              "[8 rows x 9 columns]"
            ]
          },
          "metadata": {
            "tags": []
          },
          "execution_count": 11
        }
      ]
    },
    {
      "cell_type": "markdown",
      "metadata": {
        "id": "932ELtK3244B"
      },
      "source": [
        "ANALYSIING THE ABOVE TABLE SHOWS, MOST OF THE COLUMNS ARE WELL WITHIN ACCEPTABLE RANGE EXCEPT FOR \"minimum_nights\" COLUMN."
      ]
    },
    {
      "cell_type": "code",
      "metadata": {
        "colab": {
          "base_uri": "https://localhost:8080/",
          "height": 270
        },
        "id": "T_z2ycdA4OaX",
        "outputId": "0b717aa4-6a1d-4656-d7fc-1c44fc4aac66"
      },
      "source": [
        "### PLOTTING OUTLIERS OF COLUMN \"minimum_nights\".\n",
        "\n",
        "sns.boxplot(y=airbnb_df[\"minimum_nights\"])"
      ],
      "execution_count": 12,
      "outputs": [
        {
          "output_type": "execute_result",
          "data": {
            "text/plain": [
              "<matplotlib.axes._subplots.AxesSubplot at 0x7fe775948610>"
            ]
          },
          "metadata": {
            "tags": []
          },
          "execution_count": 12
        },
        {
          "output_type": "display_data",
          "data": {
            "image/png": "[encoded data removed]",
            "text/plain": [
              "<Figure size 432x288 with 1 Axes>"
            ]
          },
          "metadata": {
            "tags": [],
            "needs_background": "light"
          }
        }
      ]
    },
    {
      "cell_type": "markdown",
      "metadata": {
        "id": "m_xWx-iwuXDQ"
      },
      "source": [
        "### ALRIGHT, WE ARE DONE WITH CLEANING OUR DATA. NOW OUR DATASET IS READY FOR ANALYSIS WITH BETTER ACCURACY THAN BEFORE.\n"
      ]
    },
    {
      "cell_type": "markdown",
      "metadata": {
        "id": "A95zzOH9yOv6"
      },
      "source": [
        "let's start with basic analysis with every column we possibly can."
      ]
    },
    {
      "cell_type": "markdown",
      "metadata": {
        "id": "ObKrFyg50QR0"
      },
      "source": [
        "### 1. let's find which neighbourhood are really popullar."
      ]
    },
    {
      "cell_type": "code",
      "metadata": {
        "colab": {
          "base_uri": "https://localhost:8080/"
        },
        "id": "FmIy9eZzuWag",
        "outputId": "14aae3ac-ebd7-40d9-fe07-6779aff2f60f"
      },
      "source": [
        "### GROUPING ON \"neighbourhood\" COLUMN AND COUNTING THE OCCURANCE IN DATASET.\n",
        "\n",
        "neighbourhood_count_df = pd.DataFrame(airbnb_df.groupby(\"neighbourhood\")[\"neighbourhood\"].count().sort_values(ascending=False)[:10])\n",
        "neighbourhood_count_df.rename(columns={\"neighbourhood\":\"Count\"}, inplace=True)\n",
        "neighbourhood_count_df.reset_index(inplace=True)\n",
        "\n",
        "print(f\"Most demanding/popular neighbourhood are \\n {neighbourhood_count_df}\")"
      ],
      "execution_count": 13,
      "outputs": [
        {
          "output_type": "stream",
          "text": [
            "Most demanding/popular neighbourhood are \n",
            "         neighbourhood  Count\n",
            "0        Williamsburg   3917\n",
            "1  Bedford-Stuyvesant   3713\n",
            "2              Harlem   2655\n",
            "3            Bushwick   2462\n",
            "4     Upper West Side   1969\n",
            "5      Hell's Kitchen   1954\n",
            "6        East Village   1852\n",
            "7     Upper East Side   1797\n",
            "8       Crown Heights   1563\n",
            "9             Midtown   1545\n"
          ],
          "name": "stdout"
        }
      ]
    },
    {
      "cell_type": "markdown",
      "metadata": {
        "id": "5AJZdEDk41hp"
      },
      "source": [
        "So, we can see that \"Williamsburg\", \"Bedford-stuyvesant\", \"Harlem\" are most in demand neighbourhoods. "
      ]
    },
    {
      "cell_type": "markdown",
      "metadata": {
        "id": "Rdv4ofOL5UUM"
      },
      "source": [
        "Let's take a step ahed and plot it graphically on a bar graph."
      ]
    },
    {
      "cell_type": "code",
      "metadata": {
        "colab": {
          "base_uri": "https://localhost:8080/",
          "height": 414
        },
        "id": "WYt8TS2kxhgj",
        "outputId": "8a905e59-8185-4e54-e5d0-11f5623852df"
      },
      "source": [
        "### PLOTTING THE ABOVE QUERY GRAPHICALLY USING \"matplotlib\".\n",
        "\n",
        "sns.set(rc={'figure.figsize':(20,5)})\n",
        "x,y = neighbourhood_count_df[\"neighbourhood\"],neighbourhood_count_df[\"Count\"]\n",
        "sns.barplot(x,y)\n",
        "\n"
      ],
      "execution_count": 14,
      "outputs": [
        {
          "output_type": "stream",
          "text": [
            "/usr/local/lib/python3.7/dist-packages/seaborn/_decorators.py:43: FutureWarning: Pass the following variables as keyword args: x, y. From version 0.12, the only valid positional argument will be `data`, and passing other arguments without an explicit keyword will result in an error or misinterpretation.\n",
            "  FutureWarning\n"
          ],
          "name": "stderr"
        },
        {
          "output_type": "execute_result",
          "data": {
            "text/plain": [
              "<matplotlib.axes._subplots.AxesSubplot at 0x7fe77560abd0>"
            ]
          },
          "metadata": {
            "tags": []
          },
          "execution_count": 14
        },
        {
          "output_type": "display_data",
          "data": {
            "image/png": "[encoded data removed]",
            "text/plain": [
              "<Figure size 1440x360 with 1 Axes>"
            ]
          },
          "metadata": {
            "tags": []
          }
        }
      ]
    },
    {
      "cell_type": "markdown",
      "metadata": {
        "id": "4jE6rIc5s2EN"
      },
      "source": [
        "### 2. LET'S CHECK AVERAGE PRICE FOR 10 MOST POPULLAR NEIGHBOURHOOD."
      ]
    },
    {
      "cell_type": "code",
      "metadata": {
        "id": "3tp-3ZOgtImz"
      },
      "source": [
        "### CALCULATING AVERAGE PRICE OF TOP 10 NEIGHBOOURS.\n",
        "\n",
        "# CREATING EMPTY LIST TO STORE VALUES IN.\n",
        "top_neighbourhood_list = list(neighbourhood_count_df[\"neighbourhood\"])\n",
        "avg_neigh_list = []\n",
        "\n",
        "# HERE WE WILL SUBSET OUR MAIN DATAFRAME(airbnb_df) TO CALCULATE MEAN FOR EACH NEIGHBOURHOOD.\n",
        "for ele in top_neighbourhood_list:\n",
        "  subset = airbnb_df[airbnb_df[\"neighbourhood\"]== ele]\n",
        "  mean = subset[\"price\"].mean()\n",
        "  avg_neigh_list.append(mean)"
      ],
      "execution_count": 15,
      "outputs": []
    },
    {
      "cell_type": "code",
      "metadata": {
        "colab": {
          "base_uri": "https://localhost:8080/",
          "height": 362
        },
        "id": "GIIJ7NgDtIhb",
        "outputId": "8c2ec7ff-bfcb-4ec4-e244-f1f07f0ad862"
      },
      "source": [
        "### NOW THAT WE HAVE A LIST, ADD IT TO TOP \"neighbourhood_count_df\".\n",
        "\n",
        "neighbourhood_count_df[\"avg_price\"] = avg_neigh_list\n",
        "neighbourhood_count_df"
      ],
      "execution_count": 16,
      "outputs": [
        {
          "output_type": "execute_result",
          "data": {
            "text/html": [
              "<div>\n",
              "<style scoped>\n",
              "    .dataframe tbody tr th:only-of-type {\n",
              "        vertical-align: middle;\n",
              "    }\n",
              "\n",
              "    .dataframe tbody tr th {\n",
              "        vertical-align: top;\n",
              "    }\n",
              "\n",
              "    .dataframe thead th {\n",
              "        text-align: right;\n",
              "    }\n",
              "</style>\n",
              "<table border=\"1\" class=\"dataframe\">\n",
              "  <thead>\n",
              "    <tr style=\"text-align: right;\">\n",
              "      <th></th>\n",
              "      <th>neighbourhood</th>\n",
              "      <th>Count</th>\n",
              "      <th>avg_price</th>\n",
              "    </tr>\n",
              "  </thead>\n",
              "  <tbody>\n",
              "    <tr>\n",
              "      <th>0</th>\n",
              "      <td>Williamsburg</td>\n",
              "      <td>3917</td>\n",
              "      <td>143.826142</td>\n",
              "    </tr>\n",
              "    <tr>\n",
              "      <th>1</th>\n",
              "      <td>Bedford-Stuyvesant</td>\n",
              "      <td>3713</td>\n",
              "      <td>107.688392</td>\n",
              "    </tr>\n",
              "    <tr>\n",
              "      <th>2</th>\n",
              "      <td>Harlem</td>\n",
              "      <td>2655</td>\n",
              "      <td>118.952542</td>\n",
              "    </tr>\n",
              "    <tr>\n",
              "      <th>3</th>\n",
              "      <td>Bushwick</td>\n",
              "      <td>2462</td>\n",
              "      <td>84.815597</td>\n",
              "    </tr>\n",
              "    <tr>\n",
              "      <th>4</th>\n",
              "      <td>Upper West Side</td>\n",
              "      <td>1969</td>\n",
              "      <td>210.990350</td>\n",
              "    </tr>\n",
              "    <tr>\n",
              "      <th>5</th>\n",
              "      <td>Hell's Kitchen</td>\n",
              "      <td>1954</td>\n",
              "      <td>204.931934</td>\n",
              "    </tr>\n",
              "    <tr>\n",
              "      <th>6</th>\n",
              "      <td>East Village</td>\n",
              "      <td>1852</td>\n",
              "      <td>186.075594</td>\n",
              "    </tr>\n",
              "    <tr>\n",
              "      <th>7</th>\n",
              "      <td>Upper East Side</td>\n",
              "      <td>1797</td>\n",
              "      <td>188.872565</td>\n",
              "    </tr>\n",
              "    <tr>\n",
              "      <th>8</th>\n",
              "      <td>Crown Heights</td>\n",
              "      <td>1563</td>\n",
              "      <td>112.520154</td>\n",
              "    </tr>\n",
              "    <tr>\n",
              "      <th>9</th>\n",
              "      <td>Midtown</td>\n",
              "      <td>1545</td>\n",
              "      <td>282.719094</td>\n",
              "    </tr>\n",
              "  </tbody>\n",
              "</table>\n",
              "</div>"
            ],
            "text/plain": [
              "        neighbourhood  Count   avg_price\n",
              "0        Williamsburg   3917  143.826142\n",
              "1  Bedford-Stuyvesant   3713  107.688392\n",
              "2              Harlem   2655  118.952542\n",
              "3            Bushwick   2462   84.815597\n",
              "4     Upper West Side   1969  210.990350\n",
              "5      Hell's Kitchen   1954  204.931934\n",
              "6        East Village   1852  186.075594\n",
              "7     Upper East Side   1797  188.872565\n",
              "8       Crown Heights   1563  112.520154\n",
              "9             Midtown   1545  282.719094"
            ]
          },
          "metadata": {
            "tags": []
          },
          "execution_count": 16
        }
      ]
    },
    {
      "cell_type": "markdown",
      "metadata": {
        "id": "424BQ7y925q5"
      },
      "source": [
        "PLOTTING A BAR PLOT FOR VISUAL PREDENTATION.\n"
      ]
    },
    {
      "cell_type": "code",
      "metadata": {
        "colab": {
          "base_uri": "https://localhost:8080/",
          "height": 414
        },
        "id": "d3b79z3M3UYl",
        "outputId": "39297a5a-23c4-477e-d9b6-50af5f86e575"
      },
      "source": [
        "### SIMPLE BAR PLOT OF \"nieghbourhood\" VS \"avg_price\".\n",
        "\n",
        "sns.set(rc={'figure.figsize':(17,5)})\n",
        "x,y = neighbourhood_count_df[\"neighbourhood\"],neighbourhood_count_df[\"avg_price\"]\n",
        "sns.barplot(x,y)"
      ],
      "execution_count": 17,
      "outputs": [
        {
          "output_type": "stream",
          "text": [
            "/usr/local/lib/python3.7/dist-packages/seaborn/_decorators.py:43: FutureWarning: Pass the following variables as keyword args: x, y. From version 0.12, the only valid positional argument will be `data`, and passing other arguments without an explicit keyword will result in an error or misinterpretation.\n",
            "  FutureWarning\n"
          ],
          "name": "stderr"
        },
        {
          "output_type": "execute_result",
          "data": {
            "text/plain": [
              "<matplotlib.axes._subplots.AxesSubplot at 0x7fe7750afd90>"
            ]
          },
          "metadata": {
            "tags": []
          },
          "execution_count": 17
        },
        {
          "output_type": "display_data",
          "data": {
            "image/png": "[encoded data removed]",
            "text/plain": [
              "<Figure size 1224x360 with 1 Axes>"
            ]
          },
          "metadata": {
            "tags": []
          }
        }
      ]
    },
    {
      "cell_type": "markdown",
      "metadata": {
        "id": "cOYZe4AGsBVk"
      },
      "source": [
        "### 3.  let's find out, which room type was more prefered and which was least prefered."
      ]
    },
    {
      "cell_type": "code",
      "metadata": {
        "colab": {
          "base_uri": "https://localhost:8080/"
        },
        "id": "R8dHyitXrEp5",
        "outputId": "2bcd3483-f777-409b-ede6-f2a2128146dc"
      },
      "source": [
        "### DIFFERENT TYPES OF \"room_types\"\n",
        "\n",
        "airbnb_df[\"room_type\"].unique()"
      ],
      "execution_count": 18,
      "outputs": [
        {
          "output_type": "execute_result",
          "data": {
            "text/plain": [
              "array(['Private room', 'Entire home/apt', 'Shared room'], dtype=object)"
            ]
          },
          "metadata": {
            "tags": []
          },
          "execution_count": 18
        }
      ]
    },
    {
      "cell_type": "code",
      "metadata": {
        "colab": {
          "base_uri": "https://localhost:8080/",
          "height": 143
        },
        "id": "iKq8DQUU1Iu0",
        "outputId": "4619f3cf-3168-465d-d00b-d07801f13688"
      },
      "source": [
        "### GROUPING AND COUNTING.\n",
        "\n",
        "room_types_df = pd.DataFrame(airbnb_df.groupby(\"room_type\")[\"room_type\"].count())\n",
        "room_types_df.rename(columns={\"room_type\":\"Count\"}, inplace=True)\n",
        "room_types_df.reset_index(inplace=True)\n",
        "\n",
        "room_types_df"
      ],
      "execution_count": 19,
      "outputs": [
        {
          "output_type": "execute_result",
          "data": {
            "text/html": [
              "<div>\n",
              "<style scoped>\n",
              "    .dataframe tbody tr th:only-of-type {\n",
              "        vertical-align: middle;\n",
              "    }\n",
              "\n",
              "    .dataframe tbody tr th {\n",
              "        vertical-align: top;\n",
              "    }\n",
              "\n",
              "    .dataframe thead th {\n",
              "        text-align: right;\n",
              "    }\n",
              "</style>\n",
              "<table border=\"1\" class=\"dataframe\">\n",
              "  <thead>\n",
              "    <tr style=\"text-align: right;\">\n",
              "      <th></th>\n",
              "      <th>room_type</th>\n",
              "      <th>Count</th>\n",
              "    </tr>\n",
              "  </thead>\n",
              "  <tbody>\n",
              "    <tr>\n",
              "      <th>0</th>\n",
              "      <td>Entire home/apt</td>\n",
              "      <td>25393</td>\n",
              "    </tr>\n",
              "    <tr>\n",
              "      <th>1</th>\n",
              "      <td>Private room</td>\n",
              "      <td>22306</td>\n",
              "    </tr>\n",
              "    <tr>\n",
              "      <th>2</th>\n",
              "      <td>Shared room</td>\n",
              "      <td>1159</td>\n",
              "    </tr>\n",
              "  </tbody>\n",
              "</table>\n",
              "</div>"
            ],
            "text/plain": [
              "         room_type  Count\n",
              "0  Entire home/apt  25393\n",
              "1     Private room  22306\n",
              "2      Shared room   1159"
            ]
          },
          "metadata": {
            "tags": []
          },
          "execution_count": 19
        }
      ]
    },
    {
      "cell_type": "markdown",
      "metadata": {
        "id": "uzXs6b_ExJ6B"
      },
      "source": [
        "ALRIGHT, WE CAN CLEARLY SEE APARTMENT WERE THE MOST IN DEMAND TYPE FOLLOWED BY \"PRIVATE ROOM\" AND \"SHARED ROOM\" RESPECTIVELY."
      ]
    },
    {
      "cell_type": "markdown",
      "metadata": {
        "id": "_lJM65KHxoQD"
      },
      "source": [
        "LET'S ALSO PLOT A PIE CHART TO CHECK THEIR PERCENTAGE DISTRIBUTION. "
      ]
    },
    {
      "cell_type": "code",
      "metadata": {
        "colab": {
          "base_uri": "https://localhost:8080/",
          "height": 429
        },
        "id": "JQpcNfEBuKba",
        "outputId": "97be5453-4085-457a-8ed8-5773b610c7e0"
      },
      "source": [
        "### PLOTTING PIE CHART USING MATPLOTLIB.\n",
        "\n",
        "room_types_df.plot.pie(y='Count', figsize=(7, 7), autopct='%.0f%%')"
      ],
      "execution_count": 20,
      "outputs": [
        {
          "output_type": "execute_result",
          "data": {
            "text/plain": [
              "<matplotlib.axes._subplots.AxesSubplot at 0x7fe7750ed790>"
            ]
          },
          "metadata": {
            "tags": []
          },
          "execution_count": 20
        },
        {
          "output_type": "display_data",
          "data": {
            "image/png": "[encoded data removed]",
            "text/plain": [
              "<Figure size 504x504 with 1 Axes>"
            ]
          },
          "metadata": {
            "tags": []
          }
        }
      ]
    },
    {
      "cell_type": "markdown",
      "metadata": {
        "id": "Qj6fZCZB5eis"
      },
      "source": [
        "NICE, PERCENTAGE DISTRIBUTION OF ALL ROOM TYPES ARE SHOWN ABOVE."
      ]
    },
    {
      "cell_type": "markdown",
      "metadata": {
        "id": "n6EzHu1ePiIy"
      },
      "source": [
        "### 5. LET'S NOW CALCULATE AVETAGE PRICE FOR EACH ROOM TYPE."
      ]
    },
    {
      "cell_type": "code",
      "metadata": {
        "id": "E6TJDYiQQ4TM"
      },
      "source": [
        "### CALCULATING AVERAGE PRICE OF DIFFERENT ROOM TYPES.\n",
        "\n",
        "# CREATING EMPTY LIST TO STORE VALUES IN.\n",
        "room_type_list = list(room_types_df[\"room_type\"])\n",
        "avg_price_room_type_list = []\n",
        "\n",
        "# HERE WE WILL SUBSET OUR MAIN DATAFRAME(airbnb_df) TO CALCULATE MEAN FOR EACH NEIGHBOURHOOD.\n",
        "for ele in room_type_list:\n",
        "  subset = airbnb_df[airbnb_df[\"room_type\"]== ele]\n",
        "  mean = subset[\"price\"].mean()\n",
        "  avg_price_room_type_list.append(mean)"
      ],
      "execution_count": 21,
      "outputs": []
    },
    {
      "cell_type": "code",
      "metadata": {
        "colab": {
          "base_uri": "https://localhost:8080/",
          "height": 143
        },
        "id": "ZXPxgvh5Ryic",
        "outputId": "22632c10-be29-457e-cc49-d682dc12fa21"
      },
      "source": [
        "### NOW THAT WE HAVE A LIST, ADD IT TO TOP \"room_types_df\".\n",
        "\n",
        "room_types_df[\"avg_price\"] = avg_price_room_type_list\n",
        "room_types_df"
      ],
      "execution_count": 22,
      "outputs": [
        {
          "output_type": "execute_result",
          "data": {
            "text/html": [
              "<div>\n",
              "<style scoped>\n",
              "    .dataframe tbody tr th:only-of-type {\n",
              "        vertical-align: middle;\n",
              "    }\n",
              "\n",
              "    .dataframe tbody tr th {\n",
              "        vertical-align: top;\n",
              "    }\n",
              "\n",
              "    .dataframe thead th {\n",
              "        text-align: right;\n",
              "    }\n",
              "</style>\n",
              "<table border=\"1\" class=\"dataframe\">\n",
              "  <thead>\n",
              "    <tr style=\"text-align: right;\">\n",
              "      <th></th>\n",
              "      <th>room_type</th>\n",
              "      <th>Count</th>\n",
              "      <th>avg_price</th>\n",
              "    </tr>\n",
              "  </thead>\n",
              "  <tbody>\n",
              "    <tr>\n",
              "      <th>0</th>\n",
              "      <td>Entire home/apt</td>\n",
              "      <td>25393</td>\n",
              "      <td>211.806994</td>\n",
              "    </tr>\n",
              "    <tr>\n",
              "      <th>1</th>\n",
              "      <td>Private room</td>\n",
              "      <td>22306</td>\n",
              "      <td>89.794360</td>\n",
              "    </tr>\n",
              "    <tr>\n",
              "      <th>2</th>\n",
              "      <td>Shared room</td>\n",
              "      <td>1159</td>\n",
              "      <td>70.075928</td>\n",
              "    </tr>\n",
              "  </tbody>\n",
              "</table>\n",
              "</div>"
            ],
            "text/plain": [
              "         room_type  Count   avg_price\n",
              "0  Entire home/apt  25393  211.806994\n",
              "1     Private room  22306   89.794360\n",
              "2      Shared room   1159   70.075928"
            ]
          },
          "metadata": {
            "tags": []
          },
          "execution_count": 22
        }
      ]
    },
    {
      "cell_type": "markdown",
      "metadata": {
        "id": "dnI12qXqSaLO"
      },
      "source": [
        "LOOKING AT DATAFSET ABOVE, AVERAGE PRICE OF APERTMENT IS NOT ONLY HIGHEST BUT, IS GREATER THEN A JUGE MARGIN."
      ]
    },
    {
      "cell_type": "code",
      "metadata": {
        "colab": {
          "base_uri": "https://localhost:8080/",
          "height": 253
        },
        "id": "bpdZF7pJzc3-",
        "outputId": "26bf7d04-25bb-474c-d338-03043ea655d4"
      },
      "source": [
        "airbnb_df.head(2)"
      ],
      "execution_count": 23,
      "outputs": [
        {
          "output_type": "execute_result",
          "data": {
            "text/html": [
              "<div>\n",
              "<style scoped>\n",
              "    .dataframe tbody tr th:only-of-type {\n",
              "        vertical-align: middle;\n",
              "    }\n",
              "\n",
              "    .dataframe tbody tr th {\n",
              "        vertical-align: top;\n",
              "    }\n",
              "\n",
              "    .dataframe thead th {\n",
              "        text-align: right;\n",
              "    }\n",
              "</style>\n",
              "<table border=\"1\" class=\"dataframe\">\n",
              "  <thead>\n",
              "    <tr style=\"text-align: right;\">\n",
              "      <th></th>\n",
              "      <th>name</th>\n",
              "      <th>host_id</th>\n",
              "      <th>host_name</th>\n",
              "      <th>neighbourhood_group</th>\n",
              "      <th>neighbourhood</th>\n",
              "      <th>latitude</th>\n",
              "      <th>longitude</th>\n",
              "      <th>room_type</th>\n",
              "      <th>price</th>\n",
              "      <th>minimum_nights</th>\n",
              "      <th>number_of_reviews</th>\n",
              "      <th>reviews_per_month</th>\n",
              "      <th>calculated_host_listings_count</th>\n",
              "      <th>availability_365</th>\n",
              "    </tr>\n",
              "  </thead>\n",
              "  <tbody>\n",
              "    <tr>\n",
              "      <th>0</th>\n",
              "      <td>Clean &amp; quiet apt home by the park</td>\n",
              "      <td>2787</td>\n",
              "      <td>John</td>\n",
              "      <td>Brooklyn</td>\n",
              "      <td>Kensington</td>\n",
              "      <td>40.64749</td>\n",
              "      <td>-73.97237</td>\n",
              "      <td>Private room</td>\n",
              "      <td>149</td>\n",
              "      <td>1</td>\n",
              "      <td>9</td>\n",
              "      <td>0.21</td>\n",
              "      <td>6</td>\n",
              "      <td>365</td>\n",
              "    </tr>\n",
              "    <tr>\n",
              "      <th>1</th>\n",
              "      <td>Skylit Midtown Castle</td>\n",
              "      <td>2845</td>\n",
              "      <td>Jennifer</td>\n",
              "      <td>Manhattan</td>\n",
              "      <td>Midtown</td>\n",
              "      <td>40.75362</td>\n",
              "      <td>-73.98377</td>\n",
              "      <td>Entire home/apt</td>\n",
              "      <td>225</td>\n",
              "      <td>1</td>\n",
              "      <td>45</td>\n",
              "      <td>0.38</td>\n",
              "      <td>2</td>\n",
              "      <td>355</td>\n",
              "    </tr>\n",
              "  </tbody>\n",
              "</table>\n",
              "</div>"
            ],
            "text/plain": [
              "                                 name  ...  availability_365\n",
              "0  Clean & quiet apt home by the park  ...               365\n",
              "1               Skylit Midtown Castle  ...               355\n",
              "\n",
              "[2 rows x 14 columns]"
            ]
          },
          "metadata": {
            "tags": []
          },
          "execution_count": 23
        }
      ]
    },
    {
      "cell_type": "markdown",
      "metadata": {
        "id": "LEutBRwZ-5oN"
      },
      "source": [
        "### 4. LET'S NOW ANALYSE RELATION BETWEEN \"minimum_nights\" AND \"number_of_reviews\". LETS CHECK WHICH ROOMS WITH MINIMUM NO OF NIGHTS WERE PREFERED AND REVIEWED."
      ]
    },
    {
      "cell_type": "code",
      "metadata": {
        "colab": {
          "base_uri": "https://localhost:8080/",
          "height": 395
        },
        "id": "3i1N1ZDj6OTX",
        "outputId": "1d8d4ec8-cb6f-4254-874b-6bfdeaae5c6b"
      },
      "source": [
        "### USING SCATTER PLOT TO VISUALLY SEE THE RELATION.\n",
        "\n",
        "room_price_df = pd.concat([airbnb_df[\"minimum_nights\"], airbnb_df[\"number_of_reviews\"]], axis=1)\n",
        "room_price_df.plot.scatter(x=\"minimum_nights\", y=\"number_of_reviews\", figsize=(5,5))"
      ],
      "execution_count": 24,
      "outputs": [
        {
          "output_type": "stream",
          "text": [
            "*c* argument looks like a single numeric RGB or RGBA sequence, which should be avoided as value-mapping will have precedence in case its length matches with *x* & *y*.  Please use the *color* keyword-argument or provide a 2-D array with a single row if you intend to specify the same RGB or RGBA value for all points.\n"
          ],
          "name": "stderr"
        },
        {
          "output_type": "execute_result",
          "data": {
            "text/plain": [
              "<matplotlib.axes._subplots.AxesSubplot at 0x7fe774f1ead0>"
            ]
          },
          "metadata": {
            "tags": []
          },
          "execution_count": 24
        },
        {
          "output_type": "display_data",
          "data": {
            "image/png": "[encoded data removed]",
            "text/plain": [
              "<Figure size 360x360 with 1 Axes>"
            ]
          },
          "metadata": {
            "tags": []
          }
        }
      ]
    },
    {
      "cell_type": "markdown",
      "metadata": {
        "id": "EJltdGeyNsY0"
      },
      "source": [
        "LOOKING AT THE FIGURE ABOVE, WE CAN CONCLUDE CUSTOMERS MOSTLY STAYED AT ROOMS WHICH HAD MINIMUM STAY OF 1 NIGHT, ALSO REVIEWED THESE ROOMS A LOT MORE."
      ]
    },
    {
      "cell_type": "markdown",
      "metadata": {
        "id": "OT1BwcNir-qJ"
      },
      "source": [
        "### 5. NOW LET'S FIND PRICE DISTRIBUTION FOR DIFFERENT REGIONS. "
      ]
    },
    {
      "cell_type": "code",
      "metadata": {
        "colab": {
          "base_uri": "https://localhost:8080/",
          "height": 738
        },
        "id": "cVqe1zIX6OF2",
        "outputId": "4e1447bf-5cf1-4c80-bf8d-214313b5bd5e"
      },
      "source": [
        "### USING A SIMPLE BOXPLOT ( \"price\" VS \"neighbourhood_group\")\n",
        "\n",
        "plt.figure(figsize=(14,12))\n",
        "sns.boxplot(y='price',x='neighbourhood_group',data = airbnb_df)"
      ],
      "execution_count": 25,
      "outputs": [
        {
          "output_type": "execute_result",
          "data": {
            "text/plain": [
              "<matplotlib.axes._subplots.AxesSubplot at 0x7fe774f03290>"
            ]
          },
          "metadata": {
            "tags": []
          },
          "execution_count": 25
        },
        {
          "output_type": "display_data",
          "data": {
            "image/png": "[encoded data removed]",
            "text/plain": [
              "<Figure size 1008x864 with 1 Axes>"
            ]
          },
          "metadata": {
            "tags": []
          }
        }
      ]
    },
    {
      "cell_type": "markdown",
      "metadata": {
        "id": "pnfK_W7H-1FK"
      },
      "source": [
        "CONCLUDING FROM ABOVE DATASET, MANHATTAN IS MOST EXPENSIVE PRICE PER NIGHT AND, BRONX IS LEAST EXPENSIVE."
      ]
    },
    {
      "cell_type": "code",
      "metadata": {
        "colab": {
          "base_uri": "https://localhost:8080/",
          "height": 415
        },
        "id": "zSO648YR6N6R",
        "outputId": "cd561c60-b6a3-4496-9842-36dc600a4b7e"
      },
      "source": [
        "airbnb_df.head()"
      ],
      "execution_count": 26,
      "outputs": [
        {
          "output_type": "execute_result",
          "data": {
            "text/html": [
              "<div>\n",
              "<style scoped>\n",
              "    .dataframe tbody tr th:only-of-type {\n",
              "        vertical-align: middle;\n",
              "    }\n",
              "\n",
              "    .dataframe tbody tr th {\n",
              "        vertical-align: top;\n",
              "    }\n",
              "\n",
              "    .dataframe thead th {\n",
              "        text-align: right;\n",
              "    }\n",
              "</style>\n",
              "<table border=\"1\" class=\"dataframe\">\n",
              "  <thead>\n",
              "    <tr style=\"text-align: right;\">\n",
              "      <th></th>\n",
              "      <th>name</th>\n",
              "      <th>host_id</th>\n",
              "      <th>host_name</th>\n",
              "      <th>neighbourhood_group</th>\n",
              "      <th>neighbourhood</th>\n",
              "      <th>latitude</th>\n",
              "      <th>longitude</th>\n",
              "      <th>room_type</th>\n",
              "      <th>price</th>\n",
              "      <th>minimum_nights</th>\n",
              "      <th>number_of_reviews</th>\n",
              "      <th>reviews_per_month</th>\n",
              "      <th>calculated_host_listings_count</th>\n",
              "      <th>availability_365</th>\n",
              "    </tr>\n",
              "  </thead>\n",
              "  <tbody>\n",
              "    <tr>\n",
              "      <th>0</th>\n",
              "      <td>Clean &amp; quiet apt home by the park</td>\n",
              "      <td>2787</td>\n",
              "      <td>John</td>\n",
              "      <td>Brooklyn</td>\n",
              "      <td>Kensington</td>\n",
              "      <td>40.64749</td>\n",
              "      <td>-73.97237</td>\n",
              "      <td>Private room</td>\n",
              "      <td>149</td>\n",
              "      <td>1</td>\n",
              "      <td>9</td>\n",
              "      <td>0.21</td>\n",
              "      <td>6</td>\n",
              "      <td>365</td>\n",
              "    </tr>\n",
              "    <tr>\n",
              "      <th>1</th>\n",
              "      <td>Skylit Midtown Castle</td>\n",
              "      <td>2845</td>\n",
              "      <td>Jennifer</td>\n",
              "      <td>Manhattan</td>\n",
              "      <td>Midtown</td>\n",
              "      <td>40.75362</td>\n",
              "      <td>-73.98377</td>\n",
              "      <td>Entire home/apt</td>\n",
              "      <td>225</td>\n",
              "      <td>1</td>\n",
              "      <td>45</td>\n",
              "      <td>0.38</td>\n",
              "      <td>2</td>\n",
              "      <td>355</td>\n",
              "    </tr>\n",
              "    <tr>\n",
              "      <th>2</th>\n",
              "      <td>THE VILLAGE OF HARLEM....NEW YORK !</td>\n",
              "      <td>4632</td>\n",
              "      <td>Elisabeth</td>\n",
              "      <td>Manhattan</td>\n",
              "      <td>Harlem</td>\n",
              "      <td>40.80902</td>\n",
              "      <td>-73.94190</td>\n",
              "      <td>Private room</td>\n",
              "      <td>150</td>\n",
              "      <td>3</td>\n",
              "      <td>0</td>\n",
              "      <td>0.00</td>\n",
              "      <td>1</td>\n",
              "      <td>365</td>\n",
              "    </tr>\n",
              "    <tr>\n",
              "      <th>3</th>\n",
              "      <td>Cozy Entire Floor of Brownstone</td>\n",
              "      <td>4869</td>\n",
              "      <td>LisaRoxanne</td>\n",
              "      <td>Brooklyn</td>\n",
              "      <td>Clinton Hill</td>\n",
              "      <td>40.68514</td>\n",
              "      <td>-73.95976</td>\n",
              "      <td>Entire home/apt</td>\n",
              "      <td>89</td>\n",
              "      <td>1</td>\n",
              "      <td>270</td>\n",
              "      <td>4.64</td>\n",
              "      <td>1</td>\n",
              "      <td>194</td>\n",
              "    </tr>\n",
              "    <tr>\n",
              "      <th>4</th>\n",
              "      <td>Entire Apt: Spacious Studio/Loft by central park</td>\n",
              "      <td>7192</td>\n",
              "      <td>Laura</td>\n",
              "      <td>Manhattan</td>\n",
              "      <td>East Harlem</td>\n",
              "      <td>40.79851</td>\n",
              "      <td>-73.94399</td>\n",
              "      <td>Entire home/apt</td>\n",
              "      <td>80</td>\n",
              "      <td>10</td>\n",
              "      <td>9</td>\n",
              "      <td>0.10</td>\n",
              "      <td>1</td>\n",
              "      <td>0</td>\n",
              "    </tr>\n",
              "  </tbody>\n",
              "</table>\n",
              "</div>"
            ],
            "text/plain": [
              "                                               name  ...  availability_365\n",
              "0                Clean & quiet apt home by the park  ...               365\n",
              "1                             Skylit Midtown Castle  ...               355\n",
              "2               THE VILLAGE OF HARLEM....NEW YORK !  ...               365\n",
              "3                   Cozy Entire Floor of Brownstone  ...               194\n",
              "4  Entire Apt: Spacious Studio/Loft by central park  ...                 0\n",
              "\n",
              "[5 rows x 14 columns]"
            ]
          },
          "metadata": {
            "tags": []
          },
          "execution_count": 26
        }
      ]
    },
    {
      "cell_type": "markdown",
      "metadata": {
        "id": "etbZkniv2Znv"
      },
      "source": [
        "### 6.  LETS FIND TOP 10 MOST RATED LISTINGS."
      ]
    },
    {
      "cell_type": "code",
      "metadata": {
        "colab": {
          "base_uri": "https://localhost:8080/",
          "height": 589
        },
        "id": "VrRZH6Vw6Lsi",
        "outputId": "76b10d52-5546-4697-c014-d888dd8dd08d"
      },
      "source": [
        "most_rated_listings = airbnb_df.copy().sort_values(\"number_of_reviews\", ascending=False)[:10]\n",
        "most_rated_listings"
      ],
      "execution_count": 27,
      "outputs": [
        {
          "output_type": "execute_result",
          "data": {
            "text/html": [
              "<div>\n",
              "<style scoped>\n",
              "    .dataframe tbody tr th:only-of-type {\n",
              "        vertical-align: middle;\n",
              "    }\n",
              "\n",
              "    .dataframe tbody tr th {\n",
              "        vertical-align: top;\n",
              "    }\n",
              "\n",
              "    .dataframe thead th {\n",
              "        text-align: right;\n",
              "    }\n",
              "</style>\n",
              "<table border=\"1\" class=\"dataframe\">\n",
              "  <thead>\n",
              "    <tr style=\"text-align: right;\">\n",
              "      <th></th>\n",
              "      <th>name</th>\n",
              "      <th>host_id</th>\n",
              "      <th>host_name</th>\n",
              "      <th>neighbourhood_group</th>\n",
              "      <th>neighbourhood</th>\n",
              "      <th>latitude</th>\n",
              "      <th>longitude</th>\n",
              "      <th>room_type</th>\n",
              "      <th>price</th>\n",
              "      <th>minimum_nights</th>\n",
              "      <th>number_of_reviews</th>\n",
              "      <th>reviews_per_month</th>\n",
              "      <th>calculated_host_listings_count</th>\n",
              "      <th>availability_365</th>\n",
              "    </tr>\n",
              "  </thead>\n",
              "  <tbody>\n",
              "    <tr>\n",
              "      <th>11759</th>\n",
              "      <td>Room near JFK Queen Bed</td>\n",
              "      <td>47621202</td>\n",
              "      <td>Dona</td>\n",
              "      <td>Queens</td>\n",
              "      <td>Jamaica</td>\n",
              "      <td>40.66730</td>\n",
              "      <td>-73.76831</td>\n",
              "      <td>Private room</td>\n",
              "      <td>47</td>\n",
              "      <td>1</td>\n",
              "      <td>629</td>\n",
              "      <td>14.58</td>\n",
              "      <td>2</td>\n",
              "      <td>333</td>\n",
              "    </tr>\n",
              "    <tr>\n",
              "      <th>2031</th>\n",
              "      <td>Great Bedroom in Manhattan</td>\n",
              "      <td>4734398</td>\n",
              "      <td>Jj</td>\n",
              "      <td>Manhattan</td>\n",
              "      <td>Harlem</td>\n",
              "      <td>40.82085</td>\n",
              "      <td>-73.94025</td>\n",
              "      <td>Private room</td>\n",
              "      <td>49</td>\n",
              "      <td>1</td>\n",
              "      <td>607</td>\n",
              "      <td>7.75</td>\n",
              "      <td>3</td>\n",
              "      <td>293</td>\n",
              "    </tr>\n",
              "    <tr>\n",
              "      <th>2030</th>\n",
              "      <td>Beautiful Bedroom in Manhattan</td>\n",
              "      <td>4734398</td>\n",
              "      <td>Jj</td>\n",
              "      <td>Manhattan</td>\n",
              "      <td>Harlem</td>\n",
              "      <td>40.82124</td>\n",
              "      <td>-73.93838</td>\n",
              "      <td>Private room</td>\n",
              "      <td>49</td>\n",
              "      <td>1</td>\n",
              "      <td>597</td>\n",
              "      <td>7.72</td>\n",
              "      <td>3</td>\n",
              "      <td>342</td>\n",
              "    </tr>\n",
              "    <tr>\n",
              "      <th>2015</th>\n",
              "      <td>Private Bedroom in Manhattan</td>\n",
              "      <td>4734398</td>\n",
              "      <td>Jj</td>\n",
              "      <td>Manhattan</td>\n",
              "      <td>Harlem</td>\n",
              "      <td>40.82264</td>\n",
              "      <td>-73.94041</td>\n",
              "      <td>Private room</td>\n",
              "      <td>49</td>\n",
              "      <td>1</td>\n",
              "      <td>594</td>\n",
              "      <td>7.57</td>\n",
              "      <td>3</td>\n",
              "      <td>339</td>\n",
              "    </tr>\n",
              "    <tr>\n",
              "      <th>13495</th>\n",
              "      <td>Room Near JFK Twin Beds</td>\n",
              "      <td>47621202</td>\n",
              "      <td>Dona</td>\n",
              "      <td>Queens</td>\n",
              "      <td>Jamaica</td>\n",
              "      <td>40.66939</td>\n",
              "      <td>-73.76975</td>\n",
              "      <td>Private room</td>\n",
              "      <td>47</td>\n",
              "      <td>1</td>\n",
              "      <td>576</td>\n",
              "      <td>13.40</td>\n",
              "      <td>2</td>\n",
              "      <td>173</td>\n",
              "    </tr>\n",
              "    <tr>\n",
              "      <th>10623</th>\n",
              "      <td>Steps away from Laguardia airport</td>\n",
              "      <td>37312959</td>\n",
              "      <td>Maya</td>\n",
              "      <td>Queens</td>\n",
              "      <td>East Elmhurst</td>\n",
              "      <td>40.77006</td>\n",
              "      <td>-73.87683</td>\n",
              "      <td>Private room</td>\n",
              "      <td>46</td>\n",
              "      <td>1</td>\n",
              "      <td>543</td>\n",
              "      <td>11.59</td>\n",
              "      <td>5</td>\n",
              "      <td>163</td>\n",
              "    </tr>\n",
              "    <tr>\n",
              "      <th>1879</th>\n",
              "      <td>Manhattan Lux Loft.Like.Love.Lots.Look !</td>\n",
              "      <td>2369681</td>\n",
              "      <td>Carol</td>\n",
              "      <td>Manhattan</td>\n",
              "      <td>Lower East Side</td>\n",
              "      <td>40.71921</td>\n",
              "      <td>-73.99116</td>\n",
              "      <td>Private room</td>\n",
              "      <td>99</td>\n",
              "      <td>2</td>\n",
              "      <td>540</td>\n",
              "      <td>6.95</td>\n",
              "      <td>1</td>\n",
              "      <td>179</td>\n",
              "    </tr>\n",
              "    <tr>\n",
              "      <th>20403</th>\n",
              "      <td>Cozy Room Family Home LGA Airport NO CLEANING FEE</td>\n",
              "      <td>26432133</td>\n",
              "      <td>Danielle</td>\n",
              "      <td>Queens</td>\n",
              "      <td>East Elmhurst</td>\n",
              "      <td>40.76335</td>\n",
              "      <td>-73.87007</td>\n",
              "      <td>Private room</td>\n",
              "      <td>48</td>\n",
              "      <td>1</td>\n",
              "      <td>510</td>\n",
              "      <td>16.22</td>\n",
              "      <td>5</td>\n",
              "      <td>341</td>\n",
              "    </tr>\n",
              "    <tr>\n",
              "      <th>4870</th>\n",
              "      <td>Private brownstone studio Brooklyn</td>\n",
              "      <td>12949460</td>\n",
              "      <td>Asa</td>\n",
              "      <td>Brooklyn</td>\n",
              "      <td>Park Slope</td>\n",
              "      <td>40.67926</td>\n",
              "      <td>-73.97711</td>\n",
              "      <td>Entire home/apt</td>\n",
              "      <td>160</td>\n",
              "      <td>1</td>\n",
              "      <td>488</td>\n",
              "      <td>8.14</td>\n",
              "      <td>1</td>\n",
              "      <td>269</td>\n",
              "    </tr>\n",
              "    <tr>\n",
              "      <th>471</th>\n",
              "      <td>LG Private Room/Family Friendly</td>\n",
              "      <td>792159</td>\n",
              "      <td>Wanda</td>\n",
              "      <td>Brooklyn</td>\n",
              "      <td>Bushwick</td>\n",
              "      <td>40.70283</td>\n",
              "      <td>-73.92131</td>\n",
              "      <td>Private room</td>\n",
              "      <td>60</td>\n",
              "      <td>3</td>\n",
              "      <td>480</td>\n",
              "      <td>6.70</td>\n",
              "      <td>1</td>\n",
              "      <td>0</td>\n",
              "    </tr>\n",
              "  </tbody>\n",
              "</table>\n",
              "</div>"
            ],
            "text/plain": [
              "                                                    name  ...  availability_365\n",
              "11759                            Room near JFK Queen Bed  ...               333\n",
              "2031                          Great Bedroom in Manhattan  ...               293\n",
              "2030                      Beautiful Bedroom in Manhattan  ...               342\n",
              "2015                        Private Bedroom in Manhattan  ...               339\n",
              "13495                            Room Near JFK Twin Beds  ...               173\n",
              "10623                  Steps away from Laguardia airport  ...               163\n",
              "1879            Manhattan Lux Loft.Like.Love.Lots.Look !  ...               179\n",
              "20403  Cozy Room Family Home LGA Airport NO CLEANING FEE  ...               341\n",
              "4870                  Private brownstone studio Brooklyn  ...               269\n",
              "471                      LG Private Room/Family Friendly  ...                 0\n",
              "\n",
              "[10 rows x 14 columns]"
            ]
          },
          "metadata": {
            "tags": []
          },
          "execution_count": 27
        }
      ]
    },
    {
      "cell_type": "markdown",
      "metadata": {
        "id": "x9-uEm225N62"
      },
      "source": [
        "GREAT, THOSE ARE THE TOP REVIWED LISTINGS WHICH ARE MOSTLY FROM \"MANHATTAN\" AND \"QUEENS\"."
      ]
    },
    {
      "cell_type": "markdown",
      "metadata": {
        "id": "k-fu2P7EOIXh"
      },
      "source": [
        "### 7. LETS NOW FIND TOP HOST \"id's\" WITH MOST LISTINGS."
      ]
    },
    {
      "cell_type": "code",
      "metadata": {
        "colab": {
          "base_uri": "https://localhost:8080/",
          "height": 393
        },
        "id": "Ayem1qC84cfI",
        "outputId": "51808d6d-e5e6-455b-eeed-31e013344bfe"
      },
      "source": [
        "### COUNTING NO OF TIMES AN \"id\" OCCURS IN DATASET.\n",
        "\n",
        "top_host_ids = pd.DataFrame(airbnb_df.groupby(\"host_id\")[\"host_id\"].count().sort_values(ascending=False)[:10])\n",
        "top_host_ids.rename(columns={\"host_id\":\"host_id_count\"}, inplace=True)\n",
        "#top_host_ids.reset_index(inplace=True)\n",
        "top_host_ids"
      ],
      "execution_count": 28,
      "outputs": [
        {
          "output_type": "execute_result",
          "data": {
            "text/html": [
              "<div>\n",
              "<style scoped>\n",
              "    .dataframe tbody tr th:only-of-type {\n",
              "        vertical-align: middle;\n",
              "    }\n",
              "\n",
              "    .dataframe tbody tr th {\n",
              "        vertical-align: top;\n",
              "    }\n",
              "\n",
              "    .dataframe thead th {\n",
              "        text-align: right;\n",
              "    }\n",
              "</style>\n",
              "<table border=\"1\" class=\"dataframe\">\n",
              "  <thead>\n",
              "    <tr style=\"text-align: right;\">\n",
              "      <th></th>\n",
              "      <th>host_id_count</th>\n",
              "    </tr>\n",
              "    <tr>\n",
              "      <th>host_id</th>\n",
              "      <th></th>\n",
              "    </tr>\n",
              "  </thead>\n",
              "  <tbody>\n",
              "    <tr>\n",
              "      <th>219517861</th>\n",
              "      <td>327</td>\n",
              "    </tr>\n",
              "    <tr>\n",
              "      <th>107434423</th>\n",
              "      <td>232</td>\n",
              "    </tr>\n",
              "    <tr>\n",
              "      <th>30283594</th>\n",
              "      <td>121</td>\n",
              "    </tr>\n",
              "    <tr>\n",
              "      <th>137358866</th>\n",
              "      <td>103</td>\n",
              "    </tr>\n",
              "    <tr>\n",
              "      <th>16098958</th>\n",
              "      <td>96</td>\n",
              "    </tr>\n",
              "    <tr>\n",
              "      <th>12243051</th>\n",
              "      <td>96</td>\n",
              "    </tr>\n",
              "    <tr>\n",
              "      <th>61391963</th>\n",
              "      <td>91</td>\n",
              "    </tr>\n",
              "    <tr>\n",
              "      <th>22541573</th>\n",
              "      <td>87</td>\n",
              "    </tr>\n",
              "    <tr>\n",
              "      <th>200380610</th>\n",
              "      <td>65</td>\n",
              "    </tr>\n",
              "    <tr>\n",
              "      <th>7503643</th>\n",
              "      <td>52</td>\n",
              "    </tr>\n",
              "  </tbody>\n",
              "</table>\n",
              "</div>"
            ],
            "text/plain": [
              "           host_id_count\n",
              "host_id                 \n",
              "219517861            327\n",
              "107434423            232\n",
              "30283594             121\n",
              "137358866            103\n",
              "16098958              96\n",
              "12243051              96\n",
              "61391963              91\n",
              "22541573              87\n",
              "200380610             65\n",
              "7503643               52"
            ]
          },
          "metadata": {
            "tags": []
          },
          "execution_count": 28
        }
      ]
    },
    {
      "cell_type": "markdown",
      "metadata": {
        "id": "_6sklQMITmTx"
      },
      "source": [
        "WHY NOT CHECK PERCENTAGE DISTRIBUTION FOR ABOVE DATASET."
      ]
    },
    {
      "cell_type": "code",
      "metadata": {
        "colab": {
          "base_uri": "https://localhost:8080/",
          "height": 429
        },
        "id": "V2Fxp0WvTOBg",
        "outputId": "cbc0f2e6-8a95-45a3-df74-57f345388aa1"
      },
      "source": [
        "### PLOTTING PIE CHART USING MATPLOTLIB.\n",
        "\n",
        "top_host_ids.plot.pie(y='host_id_count', figsize=(7, 7), autopct='%.0f%%')"
      ],
      "execution_count": 29,
      "outputs": [
        {
          "output_type": "execute_result",
          "data": {
            "text/plain": [
              "<matplotlib.axes._subplots.AxesSubplot at 0x7fe774e4dd50>"
            ]
          },
          "metadata": {
            "tags": []
          },
          "execution_count": 29
        },
        {
          "output_type": "display_data",
          "data": {
            "image/png": "[encoded data removed]",
            "text/plain": [
              "<Figure size 504x504 with 1 Axes>"
            ]
          },
          "metadata": {
            "tags": []
          }
        }
      ]
    },
    {
      "cell_type": "markdown",
      "metadata": {
        "id": "O5Dkx8AXUOv9"
      },
      "source": [
        "SIMPLY LOOKING AT THIS CHART, IT'S EASY TO CONCLUDE :\n",
        "-- ID NO \"219517861\" HAD MOST LISTINGS AND ALSO HAD 26%(MAJORITY) OF LISTINGS OF TOP 10 LISTINGS"
      ]
    },
    {
      "cell_type": "code",
      "metadata": {
        "id": "iKfhai7hTaDh"
      },
      "source": [
        ""
      ],
      "execution_count": 29,
      "outputs": []
    }
  ]
}