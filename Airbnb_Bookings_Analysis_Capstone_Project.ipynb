{
  "nbformat": 4,
  "nbformat_minor": 0,
  "metadata": {
    "kernelspec": {
      "display_name": "Python 3",
      "language": "python",
      "name": "python3"
    },
    "language_info": {
      "codemirror_mode": {
        "name": "ipython",
        "version": 3
      },
      "file_extension": ".py",
      "mimetype": "text/x-python",
      "name": "python",
      "nbconvert_exporter": "python",
      "pygments_lexer": "ipython3",
      "version": "3.6.6"
    },
    "colab": {
      "name": "Airbnb Bookings Analysis - Capstone Project.ipynb",
      "provenance": [],
      "collapsed_sections": [],
      "include_colab_link": true
    }
  },
  "cells": [
    {
      "cell_type": "markdown",
      "metadata": {
        "id": "view-in-github",
        "colab_type": "text"
      },
      "source": [
        "<a href=\"https://colab.research.google.com/github/tanay47/Airbnb-Data-Analysis/blob/main/Airbnb_Bookings_Analysis_Capstone_Project.ipynb\" target=\"_parent\"><img src=\"https://colab.research.google.com/assets/colab-badge.svg\" alt=\"Open In Colab\"/></a>"
      ]
    },
    {
      "cell_type": "markdown",
      "metadata": {
        "id": "Y06xIdG26kRF"
      },
      "source": [
        "## <b> Since 2008, guests and hosts have used Airbnb to expand on traveling possibilities and present a more unique, personalized way of experiencing the world. Today, Airbnb became one of a kind service that is used and recognized by the whole world. Data analysis on millions of listings provided through Airbnb is a crucial factor for the company. These millions of listings generate a lot of data - data that can be analyzed and used for security, business decisions, understanding of customers' and providers' (hosts) behavior and performance on the platform, guiding marketing initiatives, implementation of innovative additional services and much more. </b>\n",
        "\n",
        "## <b>This dataset has around 49,000 observations in it with 16 columns and it is a mix between categorical and numeric values. </b>\n",
        "\n",
        "## <b> Explore and analyze the data to discover key understandings (not limited to these) such as : \n",
        "* What can we learn about different hosts and areas?\n",
        "* What can we learn from predictions? (ex: locations, prices, reviews, etc)\n",
        "* Which hosts are the busiest and why?\n",
        "* Is there any noticeable difference of traffic among different areas and what could be the reason for it? </b>"
      ]
    },
    {
      "cell_type": "markdown",
      "metadata": {
        "id": "-pUxcsqZ44Ou"
      },
      "source": [
        "***Airbnb is an online space where person rent their unused rooms or entire house. Irrespective owning any of the property, Airbnb acts as a broker, receiving margin from each booking. Since 2008 Airbnb is growing at fast paced, and now it has over 7 million accommodations in more than 191 countries and regions globally.***\n",
        "\n",
        "***Now we are going to experiment and understand relationship between different factors in New York City.***\n"
      ]
    },
    {
      "cell_type": "code",
      "metadata": {
        "id": "dByMsuzT8Tnw"
      },
      "source": [
        "# Importing useful libraries in python\n",
        "import numpy as np\n",
        "import pandas as pd\n",
        "import matplotlib.pyplot as plt\n",
        "import seaborn as sns\n",
        "%matplotlib inline\n",
        "import warnings\n",
        "warnings.filterwarnings('ignore')\n",
        "from sklearn.preprocessing import MinMaxScaler"
      ],
      "execution_count": 1,
      "outputs": []
    },
    {
      "cell_type": "code",
      "metadata": {
        "colab": {
          "base_uri": "https://localhost:8080/"
        },
        "id": "1SP_B7z65A7A",
        "outputId": "6f18d87b-3001-474f-9ff9-2fcd41e1a7dd"
      },
      "source": [
        "# Mounting drive below\n",
        "from google.colab import drive\n",
        "drive.mount('/content/drive')"
      ],
      "execution_count": 2,
      "outputs": [
        {
          "output_type": "stream",
          "text": [
            "Drive already mounted at /content/drive; to attempt to forcibly remount, call drive.mount(\"/content/drive\", force_remount=True).\n"
          ],
          "name": "stdout"
        }
      ]
    },
    {
      "cell_type": "code",
      "metadata": {
        "id": "-szV41Dm5KHO"
      },
      "source": [
        "# Loading Airbnb NYC dataset\n",
        "file_path = '/content/drive/MyDrive/Colab Notebooks/Module 1/CS PROJECT 1 (EDA)/Copy of Airbnb NYC 2019.csv'\n",
        "dataset = pd.read_csv(file_path)"
      ],
      "execution_count": 3,
      "outputs": []
    },
    {
      "cell_type": "code",
      "metadata": {
        "colab": {
          "base_uri": "https://localhost:8080/"
        },
        "id": "nnUlrsgpJCDm",
        "outputId": "d98563a9-4667-4d05-e706-d3a72946ea30"
      },
      "source": [
        "# Checking shape of dataset.\n",
        "\n",
        "dataset.shape"
      ],
      "execution_count": 4,
      "outputs": [
        {
          "output_type": "execute_result",
          "data": {
            "text/plain": [
              "(48895, 16)"
            ]
          },
          "metadata": {
            "tags": []
          },
          "execution_count": 4
        }
      ]
    },
    {
      "cell_type": "code",
      "metadata": {
        "colab": {
          "base_uri": "https://localhost:8080/"
        },
        "id": "CfpD7Qao5PzO",
        "outputId": "0bb7c406-87e6-4a8e-ad5c-83f6c8a858a5"
      },
      "source": [
        "# Checking basic info about dataset\n",
        "dataset.info()"
      ],
      "execution_count": 5,
      "outputs": [
        {
          "output_type": "stream",
          "text": [
            "<class 'pandas.core.frame.DataFrame'>\n",
            "RangeIndex: 48895 entries, 0 to 48894\n",
            "Data columns (total 16 columns):\n",
            " #   Column                          Non-Null Count  Dtype  \n",
            "---  ------                          --------------  -----  \n",
            " 0   id                              48895 non-null  int64  \n",
            " 1   name                            48879 non-null  object \n",
            " 2   host_id                         48895 non-null  int64  \n",
            " 3   host_name                       48874 non-null  object \n",
            " 4   neighbourhood_group             48895 non-null  object \n",
            " 5   neighbourhood                   48895 non-null  object \n",
            " 6   latitude                        48895 non-null  float64\n",
            " 7   longitude                       48895 non-null  float64\n",
            " 8   room_type                       48895 non-null  object \n",
            " 9   price                           48895 non-null  int64  \n",
            " 10  minimum_nights                  48895 non-null  int64  \n",
            " 11  number_of_reviews               48895 non-null  int64  \n",
            " 12  last_review                     38843 non-null  object \n",
            " 13  reviews_per_month               38843 non-null  float64\n",
            " 14  calculated_host_listings_count  48895 non-null  int64  \n",
            " 15  availability_365                48895 non-null  int64  \n",
            "dtypes: float64(3), int64(7), object(6)\n",
            "memory usage: 6.0+ MB\n"
          ],
          "name": "stdout"
        }
      ]
    },
    {
      "cell_type": "code",
      "metadata": {
        "colab": {
          "base_uri": "https://localhost:8080/",
          "height": 415
        },
        "id": "J_YJzl515T4M",
        "outputId": "52de5af0-528a-4a35-d49c-74445c079335"
      },
      "source": [
        "# Viewing head of the dataset\n",
        "dataset.head()"
      ],
      "execution_count": 6,
      "outputs": [
        {
          "output_type": "execute_result",
          "data": {
            "text/html": [
              "<div>\n",
              "<style scoped>\n",
              "    .dataframe tbody tr th:only-of-type {\n",
              "        vertical-align: middle;\n",
              "    }\n",
              "\n",
              "    .dataframe tbody tr th {\n",
              "        vertical-align: top;\n",
              "    }\n",
              "\n",
              "    .dataframe thead th {\n",
              "        text-align: right;\n",
              "    }\n",
              "</style>\n",
              "<table border=\"1\" class=\"dataframe\">\n",
              "  <thead>\n",
              "    <tr style=\"text-align: right;\">\n",
              "      <th></th>\n",
              "      <th>id</th>\n",
              "      <th>name</th>\n",
              "      <th>host_id</th>\n",
              "      <th>host_name</th>\n",
              "      <th>neighbourhood_group</th>\n",
              "      <th>neighbourhood</th>\n",
              "      <th>latitude</th>\n",
              "      <th>longitude</th>\n",
              "      <th>room_type</th>\n",
              "      <th>price</th>\n",
              "      <th>minimum_nights</th>\n",
              "      <th>number_of_reviews</th>\n",
              "      <th>last_review</th>\n",
              "      <th>reviews_per_month</th>\n",
              "      <th>calculated_host_listings_count</th>\n",
              "      <th>availability_365</th>\n",
              "    </tr>\n",
              "  </thead>\n",
              "  <tbody>\n",
              "    <tr>\n",
              "      <th>0</th>\n",
              "      <td>2539</td>\n",
              "      <td>Clean &amp; quiet apt home by the park</td>\n",
              "      <td>2787</td>\n",
              "      <td>John</td>\n",
              "      <td>Brooklyn</td>\n",
              "      <td>Kensington</td>\n",
              "      <td>40.64749</td>\n",
              "      <td>-73.97237</td>\n",
              "      <td>Private room</td>\n",
              "      <td>149</td>\n",
              "      <td>1</td>\n",
              "      <td>9</td>\n",
              "      <td>2018-10-19</td>\n",
              "      <td>0.21</td>\n",
              "      <td>6</td>\n",
              "      <td>365</td>\n",
              "    </tr>\n",
              "    <tr>\n",
              "      <th>1</th>\n",
              "      <td>2595</td>\n",
              "      <td>Skylit Midtown Castle</td>\n",
              "      <td>2845</td>\n",
              "      <td>Jennifer</td>\n",
              "      <td>Manhattan</td>\n",
              "      <td>Midtown</td>\n",
              "      <td>40.75362</td>\n",
              "      <td>-73.98377</td>\n",
              "      <td>Entire home/apt</td>\n",
              "      <td>225</td>\n",
              "      <td>1</td>\n",
              "      <td>45</td>\n",
              "      <td>2019-05-21</td>\n",
              "      <td>0.38</td>\n",
              "      <td>2</td>\n",
              "      <td>355</td>\n",
              "    </tr>\n",
              "    <tr>\n",
              "      <th>2</th>\n",
              "      <td>3647</td>\n",
              "      <td>THE VILLAGE OF HARLEM....NEW YORK !</td>\n",
              "      <td>4632</td>\n",
              "      <td>Elisabeth</td>\n",
              "      <td>Manhattan</td>\n",
              "      <td>Harlem</td>\n",
              "      <td>40.80902</td>\n",
              "      <td>-73.94190</td>\n",
              "      <td>Private room</td>\n",
              "      <td>150</td>\n",
              "      <td>3</td>\n",
              "      <td>0</td>\n",
              "      <td>NaN</td>\n",
              "      <td>NaN</td>\n",
              "      <td>1</td>\n",
              "      <td>365</td>\n",
              "    </tr>\n",
              "    <tr>\n",
              "      <th>3</th>\n",
              "      <td>3831</td>\n",
              "      <td>Cozy Entire Floor of Brownstone</td>\n",
              "      <td>4869</td>\n",
              "      <td>LisaRoxanne</td>\n",
              "      <td>Brooklyn</td>\n",
              "      <td>Clinton Hill</td>\n",
              "      <td>40.68514</td>\n",
              "      <td>-73.95976</td>\n",
              "      <td>Entire home/apt</td>\n",
              "      <td>89</td>\n",
              "      <td>1</td>\n",
              "      <td>270</td>\n",
              "      <td>2019-07-05</td>\n",
              "      <td>4.64</td>\n",
              "      <td>1</td>\n",
              "      <td>194</td>\n",
              "    </tr>\n",
              "    <tr>\n",
              "      <th>4</th>\n",
              "      <td>5022</td>\n",
              "      <td>Entire Apt: Spacious Studio/Loft by central park</td>\n",
              "      <td>7192</td>\n",
              "      <td>Laura</td>\n",
              "      <td>Manhattan</td>\n",
              "      <td>East Harlem</td>\n",
              "      <td>40.79851</td>\n",
              "      <td>-73.94399</td>\n",
              "      <td>Entire home/apt</td>\n",
              "      <td>80</td>\n",
              "      <td>10</td>\n",
              "      <td>9</td>\n",
              "      <td>2018-11-19</td>\n",
              "      <td>0.10</td>\n",
              "      <td>1</td>\n",
              "      <td>0</td>\n",
              "    </tr>\n",
              "  </tbody>\n",
              "</table>\n",
              "</div>"
            ],
            "text/plain": [
              "     id  ... availability_365\n",
              "0  2539  ...              365\n",
              "1  2595  ...              355\n",
              "2  3647  ...              365\n",
              "3  3831  ...              194\n",
              "4  5022  ...                0\n",
              "\n",
              "[5 rows x 16 columns]"
            ]
          },
          "metadata": {
            "tags": []
          },
          "execution_count": 6
        }
      ]
    },
    {
      "cell_type": "code",
      "metadata": {
        "id": "LNI8FKcd5X4K"
      },
      "source": [
        "# Lets create copy of current dataset and now we will work on copied data\n",
        "airbnb = dataset.copy()"
      ],
      "execution_count": 7,
      "outputs": []
    },
    {
      "cell_type": "code",
      "metadata": {
        "colab": {
          "base_uri": "https://localhost:8080/"
        },
        "id": "vbo0GZx55cBL",
        "outputId": "ab925efc-a319-4307-bd48-2f392b845cb6"
      },
      "source": [
        "# Finding null values in dataset\n",
        "airbnb.isnull().sum()"
      ],
      "execution_count": 8,
      "outputs": [
        {
          "output_type": "execute_result",
          "data": {
            "text/plain": [
              "id                                    0\n",
              "name                                 16\n",
              "host_id                               0\n",
              "host_name                            21\n",
              "neighbourhood_group                   0\n",
              "neighbourhood                         0\n",
              "latitude                              0\n",
              "longitude                             0\n",
              "room_type                             0\n",
              "price                                 0\n",
              "minimum_nights                        0\n",
              "number_of_reviews                     0\n",
              "last_review                       10052\n",
              "reviews_per_month                 10052\n",
              "calculated_host_listings_count        0\n",
              "availability_365                      0\n",
              "dtype: int64"
            ]
          },
          "metadata": {
            "tags": []
          },
          "execution_count": 8
        }
      ]
    },
    {
      "cell_type": "markdown",
      "metadata": {
        "id": "Wa6Wi8vo5gUZ"
      },
      "source": [
        "**By Checking above, got to know that we have max no. of nulls in last_review and reviews_per_month.**\n",
        "\n",
        "**After seeing initial data, last_review column is something related to datetype and have more nulls , so I think we can drop this column for further analysis.**"
      ]
    },
    {
      "cell_type": "code",
      "metadata": {
        "id": "WPaWtcOD5hs-"
      },
      "source": [
        "# Dropped last_review column\n",
        "airbnb.drop('last_review', axis=1, inplace=True)"
      ],
      "execution_count": 9,
      "outputs": []
    },
    {
      "cell_type": "markdown",
      "metadata": {
        "id": "wikwXdT-5qXw"
      },
      "source": [
        "For rest null values in dataset, we are replacing it by 0 for now."
      ]
    },
    {
      "cell_type": "code",
      "metadata": {
        "id": "NgVi52QD5ohx"
      },
      "source": [
        "# Replacing null values by 0 in name, host_name, reviews_per_month\n",
        "airbnb[['name','host_name','reviews_per_month']].fillna(value=0, inplace=True)\n"
      ],
      "execution_count": 10,
      "outputs": []
    },
    {
      "cell_type": "code",
      "metadata": {
        "colab": {
          "base_uri": "https://localhost:8080/"
        },
        "id": "soPwTpMQ5xVM",
        "outputId": "fb4bf9a9-21c8-4d48-b05a-5ebf1001bd7f"
      },
      "source": [
        "# Checking if still any value present in dataset\n",
        "airbnb.isnull().sum()"
      ],
      "execution_count": 11,
      "outputs": [
        {
          "output_type": "execute_result",
          "data": {
            "text/plain": [
              "id                                    0\n",
              "name                                 16\n",
              "host_id                               0\n",
              "host_name                            21\n",
              "neighbourhood_group                   0\n",
              "neighbourhood                         0\n",
              "latitude                              0\n",
              "longitude                             0\n",
              "room_type                             0\n",
              "price                                 0\n",
              "minimum_nights                        0\n",
              "number_of_reviews                     0\n",
              "reviews_per_month                 10052\n",
              "calculated_host_listings_count        0\n",
              "availability_365                      0\n",
              "dtype: int64"
            ]
          },
          "metadata": {
            "tags": []
          },
          "execution_count": 11
        }
      ]
    },
    {
      "cell_type": "markdown",
      "metadata": {
        "id": "xq2eYbLl51CS"
      },
      "source": [
        "**Now, we can clearly that there are no null values in dataset.**"
      ]
    },
    {
      "cell_type": "markdown",
      "metadata": {
        "id": "tfQTyZYnJl5v"
      },
      "source": [
        "**To have a sensible data to work with, we will check and eliminate duplicate observations/records.**"
      ]
    },
    {
      "cell_type": "code",
      "metadata": {
        "id": "_9w80rhrmKNr",
        "colab": {
          "base_uri": "https://localhost:8080/"
        },
        "outputId": "2dd9f5cf-47f5-4697-cc5a-650267b6b57c"
      },
      "source": [
        "# Check and eliminate duplicate observations/records.\n",
        "\n",
        "dupli_rows_df = airbnb[airbnb.duplicated()]\n",
        "print(f\"Number of duplicate record is\", {dupli_rows_df.shape}) "
      ],
      "execution_count": 12,
      "outputs": [
        {
          "output_type": "stream",
          "text": [
            "Number of duplicate record is {(0, 15)}\n"
          ],
          "name": "stdout"
        }
      ]
    },
    {
      "cell_type": "markdown",
      "metadata": {
        "id": "14IIDqcbooZU"
      },
      "source": [
        "**Great, we have no duplicate observations/records. Moving ahead.**"
      ]
    },
    {
      "cell_type": "code",
      "metadata": {
        "id": "mxvOr_t152ep",
        "colab": {
          "base_uri": "https://localhost:8080/"
        },
        "outputId": "ae0a3932-32fa-484f-92de-c6fcad6bbb93"
      },
      "source": [
        "# Checking unique values over each columns\n",
        "airbnb.nunique()"
      ],
      "execution_count": 13,
      "outputs": [
        {
          "output_type": "execute_result",
          "data": {
            "text/plain": [
              "id                                48895\n",
              "name                              47905\n",
              "host_id                           37457\n",
              "host_name                         11452\n",
              "neighbourhood_group                   5\n",
              "neighbourhood                       221\n",
              "latitude                          19048\n",
              "longitude                         14718\n",
              "room_type                             3\n",
              "price                               674\n",
              "minimum_nights                      109\n",
              "number_of_reviews                   394\n",
              "reviews_per_month                   937\n",
              "calculated_host_listings_count       47\n",
              "availability_365                    366\n",
              "dtype: int64"
            ]
          },
          "metadata": {
            "tags": []
          },
          "execution_count": 13
        }
      ]
    },
    {
      "cell_type": "markdown",
      "metadata": {
        "id": "m_xWx-iwuXDQ"
      },
      "source": [
        "**ALRIGHT, WE NOW HAVE A BASIC IDEA OF OUR DATASET AND ALSO WE ARE DONE WITH CLEANING OUR DATA. NOW OUR DATASET IS READY FOR ANALYSIS WITH BETTER ACCURACY THAN BEFORE.**"
      ]
    },
    {
      "cell_type": "markdown",
      "metadata": {
        "id": "ObKrFyg50QR0"
      },
      "source": [
        "### 1. LET'S START OUR ANALYSIS WITH \"10 MOST POPULAR NIEGHBOURHOOD\"."
      ]
    },
    {
      "cell_type": "code",
      "metadata": {
        "id": "FmIy9eZzuWag",
        "colab": {
          "base_uri": "https://localhost:8080/"
        },
        "outputId": "cdca31b3-056d-48b1-96c0-9a081437680c"
      },
      "source": [
        "### GROUPING ON \"neighbourhood\" COLUMN AND COUNTING THE OCCURANCE IN DATASET.\n",
        "\n",
        "neighbourhood_count_df = pd.DataFrame(airbnb.groupby(\"neighbourhood\")[\"neighbourhood\"].count().sort_values(ascending=False)[:10])\n",
        "neighbourhood_count_df.rename(columns={\"neighbourhood\":\"Count\"}, inplace=True)\n",
        "neighbourhood_count_df.reset_index(inplace=True)\n",
        "\n",
        "print(f\"Most demanding/popular neighbourhood are \\n\\n {neighbourhood_count_df}\")"
      ],
      "execution_count": 16,
      "outputs": [
        {
          "output_type": "stream",
          "text": [
            "Most demanding/popular neighbourhood are \n",
            "\n",
            "         neighbourhood  Count\n",
            "0        Williamsburg   3920\n",
            "1  Bedford-Stuyvesant   3714\n",
            "2              Harlem   2658\n",
            "3            Bushwick   2465\n",
            "4     Upper West Side   1971\n",
            "5      Hell's Kitchen   1958\n",
            "6        East Village   1853\n",
            "7     Upper East Side   1798\n",
            "8       Crown Heights   1564\n",
            "9             Midtown   1545\n"
          ],
          "name": "stdout"
        }
      ]
    },
    {
      "cell_type": "markdown",
      "metadata": {
        "id": "5AJZdEDk41hp"
      },
      "source": [
        "So, we can see that \"***Williamsburg***\" , \"***Bedford-stuyvesant***\", \"***Harlem***\" are most in demand neighbourhoods. "
      ]
    },
    {
      "cell_type": "markdown",
      "metadata": {
        "id": "Rdv4ofOL5UUM"
      },
      "source": [
        "Let's take a step ahed and plot it graphically on a bar graph to have a visual over difference in popularity."
      ]
    },
    {
      "cell_type": "code",
      "metadata": {
        "id": "WYt8TS2kxhgj",
        "colab": {
          "base_uri": "https://localhost:8080/",
          "height": 357
        },
        "outputId": "8092f098-d691-4dfa-9b7f-b299cbf0db3d"
      },
      "source": [
        "### PLOTTING THE ABOVE QUERY GRAPHICALLY USING \"matplotlib\".\n",
        "\n",
        "sns.set(rc={'figure.figsize':(20,5)})\n",
        "x,y = neighbourhood_count_df[\"neighbourhood\"],neighbourhood_count_df[\"Count\"]\n",
        "sns.barplot(x,y)\n",
        "\n"
      ],
      "execution_count": 17,
      "outputs": [
        {
          "output_type": "execute_result",
          "data": {
            "text/plain": [
              "<matplotlib.axes._subplots.AxesSubplot at 0x7f1c40be0b50>"
            ]
          },
          "metadata": {
            "tags": []
          },
          "execution_count": 17
        },
        {
          "output_type": "display_data",
          "data": {
            "image/png": "[encoded data removed]",
            "text/plain": [
              "<Figure size 1440x360 with 1 Axes>"
            ]
          },
          "metadata": {
            "tags": []
          }
        }
      ]
    },
    {
      "cell_type": "markdown",
      "metadata": {
        "id": "EbF1zyf5NKbB"
      },
      "source": [
        "Lokking at the plot above, we can clearly conclude that \"***Williamsburg***\" and \"***Bedford-stuyvesant***\" are almost equally popular lying within the count range of ***3500*** and ***4000***"
      ]
    },
    {
      "cell_type": "markdown",
      "metadata": {
        "id": "bAWPc-whOIeV"
      },
      "source": [
        "Also we can observe a considerable count/popularity ***drop*** from \"***Bedford-stuyvesant***\" to \"***Harlem***\""
      ]
    },
    {
      "cell_type": "markdown",
      "metadata": {
        "id": "4jE6rIc5s2EN"
      },
      "source": [
        "### 2. LET'S CHECK AVERAGE PRICE FOR THESE POPULLAR NEIGHBOURHOOD."
      ]
    },
    {
      "cell_type": "code",
      "metadata": {
        "id": "3tp-3ZOgtImz"
      },
      "source": [
        "### CALCULATING AVERAGE PRICE OF TOP 10 NEIGHBOOURS. (REFFERING ABOVE DATASET)\n",
        "\n",
        "# CREATING EMPTY LIST TO STORE VALUES IN.\n",
        "top_neighbourhood_list = list(neighbourhood_count_df[\"neighbourhood\"])\n",
        "avg_neigh_list = []\n",
        "\n",
        "# HERE WE WILL SUBSET OUR MAIN DATAFRAME(airbnb_df) TO CALCULATE MEAN FOR EACH NEIGHBOURHOOD.\n",
        "for ele in top_neighbourhood_list:\n",
        "  subset = airbnb[airbnb[\"neighbourhood\"]== ele]\n",
        "  mean = subset[\"price\"].mean()\n",
        "  avg_neigh_list.append(mean)"
      ],
      "execution_count": 19,
      "outputs": []
    },
    {
      "cell_type": "code",
      "metadata": {
        "id": "GIIJ7NgDtIhb",
        "colab": {
          "base_uri": "https://localhost:8080/",
          "height": 362
        },
        "outputId": "9a0c7e29-8588-48c6-84fa-1da5ace0ccd5"
      },
      "source": [
        "### NOW THAT WE HAVE A LIST, ADD IT TO TOP \"neighbourhood_count_df\".\n",
        "\n",
        "neighbourhood_count_df[\"avg_price\"] = avg_neigh_list\n",
        "neighbourhood_count_df"
      ],
      "execution_count": 20,
      "outputs": [
        {
          "output_type": "execute_result",
          "data": {
            "text/html": [
              "<div>\n",
              "<style scoped>\n",
              "    .dataframe tbody tr th:only-of-type {\n",
              "        vertical-align: middle;\n",
              "    }\n",
              "\n",
              "    .dataframe tbody tr th {\n",
              "        vertical-align: top;\n",
              "    }\n",
              "\n",
              "    .dataframe thead th {\n",
              "        text-align: right;\n",
              "    }\n",
              "</style>\n",
              "<table border=\"1\" class=\"dataframe\">\n",
              "  <thead>\n",
              "    <tr style=\"text-align: right;\">\n",
              "      <th></th>\n",
              "      <th>neighbourhood</th>\n",
              "      <th>Count</th>\n",
              "      <th>avg_price</th>\n",
              "    </tr>\n",
              "  </thead>\n",
              "  <tbody>\n",
              "    <tr>\n",
              "      <th>0</th>\n",
              "      <td>Williamsburg</td>\n",
              "      <td>3920</td>\n",
              "      <td>143.802806</td>\n",
              "    </tr>\n",
              "    <tr>\n",
              "      <th>1</th>\n",
              "      <td>Bedford-Stuyvesant</td>\n",
              "      <td>3714</td>\n",
              "      <td>107.678244</td>\n",
              "    </tr>\n",
              "    <tr>\n",
              "      <th>2</th>\n",
              "      <td>Harlem</td>\n",
              "      <td>2658</td>\n",
              "      <td>118.974041</td>\n",
              "    </tr>\n",
              "    <tr>\n",
              "      <th>3</th>\n",
              "      <td>Bushwick</td>\n",
              "      <td>2465</td>\n",
              "      <td>84.800406</td>\n",
              "    </tr>\n",
              "    <tr>\n",
              "      <th>4</th>\n",
              "      <td>Upper West Side</td>\n",
              "      <td>1971</td>\n",
              "      <td>210.918316</td>\n",
              "    </tr>\n",
              "    <tr>\n",
              "      <th>5</th>\n",
              "      <td>Hell's Kitchen</td>\n",
              "      <td>1958</td>\n",
              "      <td>204.794178</td>\n",
              "    </tr>\n",
              "    <tr>\n",
              "      <th>6</th>\n",
              "      <td>East Village</td>\n",
              "      <td>1853</td>\n",
              "      <td>186.083108</td>\n",
              "    </tr>\n",
              "    <tr>\n",
              "      <th>7</th>\n",
              "      <td>Upper East Side</td>\n",
              "      <td>1798</td>\n",
              "      <td>188.948276</td>\n",
              "    </tr>\n",
              "    <tr>\n",
              "      <th>8</th>\n",
              "      <td>Crown Heights</td>\n",
              "      <td>1564</td>\n",
              "      <td>112.480179</td>\n",
              "    </tr>\n",
              "    <tr>\n",
              "      <th>9</th>\n",
              "      <td>Midtown</td>\n",
              "      <td>1545</td>\n",
              "      <td>282.719094</td>\n",
              "    </tr>\n",
              "  </tbody>\n",
              "</table>\n",
              "</div>"
            ],
            "text/plain": [
              "        neighbourhood  Count   avg_price\n",
              "0        Williamsburg   3920  143.802806\n",
              "1  Bedford-Stuyvesant   3714  107.678244\n",
              "2              Harlem   2658  118.974041\n",
              "3            Bushwick   2465   84.800406\n",
              "4     Upper West Side   1971  210.918316\n",
              "5      Hell's Kitchen   1958  204.794178\n",
              "6        East Village   1853  186.083108\n",
              "7     Upper East Side   1798  188.948276\n",
              "8       Crown Heights   1564  112.480179\n",
              "9             Midtown   1545  282.719094"
            ]
          },
          "metadata": {
            "tags": []
          },
          "execution_count": 20
        }
      ]
    },
    {
      "cell_type": "markdown",
      "metadata": {
        "id": "424BQ7y925q5"
      },
      "source": [
        "plotting a bar graph for visual representation.\n"
      ]
    },
    {
      "cell_type": "code",
      "metadata": {
        "id": "d3b79z3M3UYl",
        "colab": {
          "base_uri": "https://localhost:8080/",
          "height": 357
        },
        "outputId": "083d183b-3f42-46a5-c17d-1dcc23f2f495"
      },
      "source": [
        "### SIMPLE BAR PLOT OF \"nieghbourhood\" VS \"avg_price\".\n",
        "\n",
        "sns.set(rc={'figure.figsize':(17,5)})\n",
        "x,y = neighbourhood_count_df[\"neighbourhood\"],neighbourhood_count_df[\"avg_price\"]\n",
        "sns.barplot(x,y)"
      ],
      "execution_count": 21,
      "outputs": [
        {
          "output_type": "execute_result",
          "data": {
            "text/plain": [
              "<matplotlib.axes._subplots.AxesSubplot at 0x7f1c3e575c50>"
            ]
          },
          "metadata": {
            "tags": []
          },
          "execution_count": 21
        },
        {
          "output_type": "display_data",
          "data": {
            "image/png": "[encoded data removed]",
            "text/plain": [
              "<Figure size 1224x360 with 1 Axes>"
            ]
          },
          "metadata": {
            "tags": []
          }
        }
      ]
    },
    {
      "cell_type": "markdown",
      "metadata": {
        "id": "xH2fxZ_oRpAb"
      },
      "source": [
        "Having a really ***low*** average price for neighbourhood like \"***Williamsburg***\" , \"***Bedford-stuyvesant***\", \"***Harlem***\" tells us why these are the most popular neighbourhood."
      ]
    },
    {
      "cell_type": "markdown",
      "metadata": {
        "id": "UM_LWpxtgAEg"
      },
      "source": [
        "### 3. Analysis of aggregate price of different room type for each neighbourhood groups."
      ]
    },
    {
      "cell_type": "code",
      "metadata": {
        "colab": {
          "base_uri": "https://localhost:8080/",
          "height": 236
        },
        "id": "_O8XOo8ViF4K",
        "outputId": "c9597378-4cff-40a6-bf2f-c2fe5499ca75"
      },
      "source": [
        "# AGGREGATE PRICE OF \"room_type\" OVER EACH \"neighbourhood_group\".\n",
        "\n",
        "agg_price_neigh_group = pd.DataFrame(airbnb.groupby(['neighbourhood_group','room_type'])['price'].agg(np.mean).unstack())\n",
        "agg_price_neigh_group"
      ],
      "execution_count": 33,
      "outputs": [
        {
          "output_type": "execute_result",
          "data": {
            "text/html": [
              "<div>\n",
              "<style scoped>\n",
              "    .dataframe tbody tr th:only-of-type {\n",
              "        vertical-align: middle;\n",
              "    }\n",
              "\n",
              "    .dataframe tbody tr th {\n",
              "        vertical-align: top;\n",
              "    }\n",
              "\n",
              "    .dataframe thead th {\n",
              "        text-align: right;\n",
              "    }\n",
              "</style>\n",
              "<table border=\"1\" class=\"dataframe\">\n",
              "  <thead>\n",
              "    <tr style=\"text-align: right;\">\n",
              "      <th>room_type</th>\n",
              "      <th>Entire home/apt</th>\n",
              "      <th>Private room</th>\n",
              "      <th>Shared room</th>\n",
              "    </tr>\n",
              "    <tr>\n",
              "      <th>neighbourhood_group</th>\n",
              "      <th></th>\n",
              "      <th></th>\n",
              "      <th></th>\n",
              "    </tr>\n",
              "  </thead>\n",
              "  <tbody>\n",
              "    <tr>\n",
              "      <th>Bronx</th>\n",
              "      <td>127.506596</td>\n",
              "      <td>66.788344</td>\n",
              "      <td>59.800000</td>\n",
              "    </tr>\n",
              "    <tr>\n",
              "      <th>Brooklyn</th>\n",
              "      <td>178.327545</td>\n",
              "      <td>76.500099</td>\n",
              "      <td>50.527845</td>\n",
              "    </tr>\n",
              "    <tr>\n",
              "      <th>Manhattan</th>\n",
              "      <td>249.239109</td>\n",
              "      <td>116.776622</td>\n",
              "      <td>88.977083</td>\n",
              "    </tr>\n",
              "    <tr>\n",
              "      <th>Queens</th>\n",
              "      <td>147.050573</td>\n",
              "      <td>71.762456</td>\n",
              "      <td>69.020202</td>\n",
              "    </tr>\n",
              "    <tr>\n",
              "      <th>Staten Island</th>\n",
              "      <td>173.846591</td>\n",
              "      <td>62.292553</td>\n",
              "      <td>57.444444</td>\n",
              "    </tr>\n",
              "  </tbody>\n",
              "</table>\n",
              "</div>"
            ],
            "text/plain": [
              "room_type            Entire home/apt  Private room  Shared room\n",
              "neighbourhood_group                                            \n",
              "Bronx                     127.506596     66.788344    59.800000\n",
              "Brooklyn                  178.327545     76.500099    50.527845\n",
              "Manhattan                 249.239109    116.776622    88.977083\n",
              "Queens                    147.050573     71.762456    69.020202\n",
              "Staten Island             173.846591     62.292553    57.444444"
            ]
          },
          "metadata": {
            "tags": []
          },
          "execution_count": 33
        }
      ]
    },
    {
      "cell_type": "markdown",
      "metadata": {
        "id": "qAyBiKq6otcR"
      },
      "source": [
        "**Let's make the above dataframe a little easier to analyse.**"
      ]
    },
    {
      "cell_type": "code",
      "metadata": {
        "colab": {
          "base_uri": "https://localhost:8080/",
          "height": 373
        },
        "id": "sYuTbZPWiovl",
        "outputId": "ff9d4f70-7126-4b81-8370-3c99a1a7e24a"
      },
      "source": [
        "# Plotting line graph\n",
        "agg_price_neigh_group.plot(kind=\"line\", figsize=(15,5))\n",
        "\n",
        "plt.ylabel('Aggregate price')\n",
        "plt.xlabel('Neighbourhood Groups')\n",
        "plt.title('AGGREGATE PRICE OF \"room_type\" OVER EACH \"neighbourhood_group\"')"
      ],
      "execution_count": 35,
      "outputs": [
        {
          "output_type": "execute_result",
          "data": {
            "text/plain": [
              "Text(0.5, 1.0, 'AGGREGATE PRICE OF \"room_type\" OVER EACH \"neighbourhood_group\"')"
            ]
          },
          "metadata": {
            "tags": []
          },
          "execution_count": 35
        },
        {
          "output_type": "display_data",
          "data": {
            "image/png": "[encoded data removed]",
            "text/plain": [
              "<Figure size 1080x360 with 1 Axes>"
            ]
          },
          "metadata": {
            "tags": []
          }
        }
      ]
    },
    {
      "cell_type": "markdown",
      "metadata": {
        "id": "LpqKlv5vi-5-"
      },
      "source": [
        "By seeing above, it clearly visible that **Manahttan** is neighbourhood group which have ***highest* aggregate price** in all room types(**entire home/private room/shared room**).\n",
        "\n",
        "But if we talk about lowest aggregate price over different room types, then we notice in case of **Entire room/apt *lowest* aggregate price** is in **Bronx**, in case of **private room Staten Island** and in case of **shared room Brookyln** is having ***lowest* aggregate price**."
      ]
    },
    {
      "cell_type": "markdown",
      "metadata": {
        "id": "cOYZe4AGsBVk"
      },
      "source": [
        "### 4.  let's find out, which room type was more prefered and which was least prefered."
      ]
    },
    {
      "cell_type": "code",
      "metadata": {
        "id": "R8dHyitXrEp5",
        "colab": {
          "base_uri": "https://localhost:8080/"
        },
        "outputId": "7f261c3b-b551-43ca-a8dd-41cac3b0af98"
      },
      "source": [
        "### DIFFERENT TYPES OF \"room_types\"\n",
        "\n",
        "airbnb[\"room_type\"].unique()"
      ],
      "execution_count": 22,
      "outputs": [
        {
          "output_type": "execute_result",
          "data": {
            "text/plain": [
              "array(['Private room', 'Entire home/apt', 'Shared room'], dtype=object)"
            ]
          },
          "metadata": {
            "tags": []
          },
          "execution_count": 22
        }
      ]
    },
    {
      "cell_type": "code",
      "metadata": {
        "id": "iKq8DQUU1Iu0",
        "colab": {
          "base_uri": "https://localhost:8080/",
          "height": 175
        },
        "outputId": "abaaef4e-1496-4667-c4b9-1949c960c6d5"
      },
      "source": [
        "### GROUPING AND COUNTING.\n",
        "\n",
        "room_types_df = pd.DataFrame(airbnb.groupby(\"room_type\")[\"room_type\"].count())\n",
        "room_types_df.rename(columns={\"room_type\":\"Count\"}, inplace=True)\n",
        "#room_types_df.reset_index(inplace=True)\n",
        "\n",
        "room_types_df"
      ],
      "execution_count": 24,
      "outputs": [
        {
          "output_type": "execute_result",
          "data": {
            "text/html": [
              "<div>\n",
              "<style scoped>\n",
              "    .dataframe tbody tr th:only-of-type {\n",
              "        vertical-align: middle;\n",
              "    }\n",
              "\n",
              "    .dataframe tbody tr th {\n",
              "        vertical-align: top;\n",
              "    }\n",
              "\n",
              "    .dataframe thead th {\n",
              "        text-align: right;\n",
              "    }\n",
              "</style>\n",
              "<table border=\"1\" class=\"dataframe\">\n",
              "  <thead>\n",
              "    <tr style=\"text-align: right;\">\n",
              "      <th></th>\n",
              "      <th>Count</th>\n",
              "    </tr>\n",
              "    <tr>\n",
              "      <th>room_type</th>\n",
              "      <th></th>\n",
              "    </tr>\n",
              "  </thead>\n",
              "  <tbody>\n",
              "    <tr>\n",
              "      <th>Entire home/apt</th>\n",
              "      <td>25409</td>\n",
              "    </tr>\n",
              "    <tr>\n",
              "      <th>Private room</th>\n",
              "      <td>22326</td>\n",
              "    </tr>\n",
              "    <tr>\n",
              "      <th>Shared room</th>\n",
              "      <td>1160</td>\n",
              "    </tr>\n",
              "  </tbody>\n",
              "</table>\n",
              "</div>"
            ],
            "text/plain": [
              "                 Count\n",
              "room_type             \n",
              "Entire home/apt  25409\n",
              "Private room     22326\n",
              "Shared room       1160"
            ]
          },
          "metadata": {
            "tags": []
          },
          "execution_count": 24
        }
      ]
    },
    {
      "cell_type": "markdown",
      "metadata": {
        "id": "QsVmuPKI7V6i"
      },
      "source": [
        "Alright, we can clearly see that \"**Apartment**\" were the most in demand room type. Followed by \"**Private room**\" and \"**Shared room**\""
      ]
    },
    {
      "cell_type": "markdown",
      "metadata": {
        "id": "_lJM65KHxoQD"
      },
      "source": [
        "Why not plot a pie chart with percentage distribution. "
      ]
    },
    {
      "cell_type": "code",
      "metadata": {
        "id": "JQpcNfEBuKba",
        "colab": {
          "base_uri": "https://localhost:8080/",
          "height": 429
        },
        "outputId": "0e19bd89-2234-4486-d379-ea784426fe24"
      },
      "source": [
        "### PLOTTING PIE CHART USING MATPLOTLIB.\n",
        "\n",
        "room_types_df.plot.pie(y='Count', figsize=(7, 7), autopct='%.0f%%')"
      ],
      "execution_count": 25,
      "outputs": [
        {
          "output_type": "execute_result",
          "data": {
            "text/plain": [
              "<matplotlib.axes._subplots.AxesSubplot at 0x7f1c3e44a450>"
            ]
          },
          "metadata": {
            "tags": []
          },
          "execution_count": 25
        },
        {
          "output_type": "display_data",
          "data": {
            "image/png": "[encoded data removed]",
            "text/plain": [
              "<Figure size 504x504 with 1 Axes>"
            ]
          },
          "metadata": {
            "tags": []
          }
        }
      ]
    },
    {
      "cell_type": "markdown",
      "metadata": {
        "id": "RHbyLl5WZfH0"
      },
      "source": [
        "### 5. Let's Analyse count distribution of different room type for different neighbourhood groups."
      ]
    },
    {
      "cell_type": "code",
      "metadata": {
        "colab": {
          "base_uri": "https://localhost:8080/",
          "height": 236
        },
        "id": "Iwy_I6GSa7lD",
        "outputId": "a0b0bcbb-d558-49de-84de-02714171c1f2"
      },
      "source": [
        "# COUNT DISTRIBUTION OF DIFFERENT ROOM TYPES FOR DIFFERENT NEIGHBOURHOOD GROP.\n",
        "\n",
        "room_neigh_freq = pd.DataFrame(airbnb.groupby('neighbourhood_group')['room_type'].value_counts().unstack())\n",
        "room_neigh_freq"
      ],
      "execution_count": 28,
      "outputs": [
        {
          "output_type": "execute_result",
          "data": {
            "text/html": [
              "<div>\n",
              "<style scoped>\n",
              "    .dataframe tbody tr th:only-of-type {\n",
              "        vertical-align: middle;\n",
              "    }\n",
              "\n",
              "    .dataframe tbody tr th {\n",
              "        vertical-align: top;\n",
              "    }\n",
              "\n",
              "    .dataframe thead th {\n",
              "        text-align: right;\n",
              "    }\n",
              "</style>\n",
              "<table border=\"1\" class=\"dataframe\">\n",
              "  <thead>\n",
              "    <tr style=\"text-align: right;\">\n",
              "      <th>room_type</th>\n",
              "      <th>Entire home/apt</th>\n",
              "      <th>Private room</th>\n",
              "      <th>Shared room</th>\n",
              "    </tr>\n",
              "    <tr>\n",
              "      <th>neighbourhood_group</th>\n",
              "      <th></th>\n",
              "      <th></th>\n",
              "      <th></th>\n",
              "    </tr>\n",
              "  </thead>\n",
              "  <tbody>\n",
              "    <tr>\n",
              "      <th>Bronx</th>\n",
              "      <td>379</td>\n",
              "      <td>652</td>\n",
              "      <td>60</td>\n",
              "    </tr>\n",
              "    <tr>\n",
              "      <th>Brooklyn</th>\n",
              "      <td>9559</td>\n",
              "      <td>10132</td>\n",
              "      <td>413</td>\n",
              "    </tr>\n",
              "    <tr>\n",
              "      <th>Manhattan</th>\n",
              "      <td>13199</td>\n",
              "      <td>7982</td>\n",
              "      <td>480</td>\n",
              "    </tr>\n",
              "    <tr>\n",
              "      <th>Queens</th>\n",
              "      <td>2096</td>\n",
              "      <td>3372</td>\n",
              "      <td>198</td>\n",
              "    </tr>\n",
              "    <tr>\n",
              "      <th>Staten Island</th>\n",
              "      <td>176</td>\n",
              "      <td>188</td>\n",
              "      <td>9</td>\n",
              "    </tr>\n",
              "  </tbody>\n",
              "</table>\n",
              "</div>"
            ],
            "text/plain": [
              "room_type            Entire home/apt  Private room  Shared room\n",
              "neighbourhood_group                                            \n",
              "Bronx                            379           652           60\n",
              "Brooklyn                        9559         10132          413\n",
              "Manhattan                      13199          7982          480\n",
              "Queens                          2096          3372          198\n",
              "Staten Island                    176           188            9"
            ]
          },
          "metadata": {
            "tags": []
          },
          "execution_count": 28
        }
      ]
    },
    {
      "cell_type": "markdown",
      "metadata": {
        "id": "PZOPq-onW9Lh"
      },
      "source": [
        "Making it a little bit easier to draw insights using a Bar Graph."
      ]
    },
    {
      "cell_type": "code",
      "metadata": {
        "colab": {
          "base_uri": "https://localhost:8080/",
          "height": 436
        },
        "id": "NYr3FjeybY-3",
        "outputId": "79fad16f-78f9-433c-e545-8b520ee247dd"
      },
      "source": [
        "# SIMPLE BAR GRAPH FOR ABOVE DATAFRAME\n",
        "\n",
        "room_neigh_freq.plot(kind=\"bar\", figsize=(15,5))\n",
        "plt.ylabel('Count of room_type')\n",
        "plt.xlabel('Neighbourhood Groups')\n",
        "plt.title('COUNT DISTRIBUTION OF DIFFERENT ROOM TYPES FOR DIFFERENT NEIGHBOURHOOD GROP')"
      ],
      "execution_count": 30,
      "outputs": [
        {
          "output_type": "execute_result",
          "data": {
            "text/plain": [
              "Text(0.5, 1.0, 'COUNT DISTRIBUTION OF DIFFERENT ROOM TYPES FOR DIFFERENT NEIGHBOURHOOD GROP')"
            ]
          },
          "metadata": {
            "tags": []
          },
          "execution_count": 30
        },
        {
          "output_type": "display_data",
          "data": {
            "image/png": "[encoded data removed]",
            "text/plain": [
              "<Figure size 1080x360 with 1 Axes>"
            ]
          },
          "metadata": {
            "tags": []
          }
        }
      ]
    },
    {
      "cell_type": "markdown",
      "metadata": {
        "id": "JK-XcSi_epOS"
      },
      "source": [
        "From above graph, we clearly see that **Manhattan** has maximun number of airbnbs."
      ]
    },
    {
      "cell_type": "markdown",
      "metadata": {
        "id": "pdJUETMHZZ-_"
      },
      "source": [
        "also, in every Neighbourhood group we can observe that \"***Entire Home/apt***\" and \"***Private Rooms***\" are way greater in count compared to \"***Shared Rooms***\""
      ]
    },
    {
      "cell_type": "markdown",
      "metadata": {
        "id": "LEutBRwZ-5oN"
      },
      "source": [
        "### 6. LET'S NOW ANALYSE RELATION BETWEEN \"**minimum_nights**\" And \"**number_of_reviews**\". ALSO LET'S CHECK WHICH ROOMS WITH MINIMUM NO OF NIGHTS WERE PREFERED AND REVIEWED."
      ]
    },
    {
      "cell_type": "code",
      "metadata": {
        "id": "3i1N1ZDj6OTX",
        "colab": {
          "base_uri": "https://localhost:8080/",
          "height": 395
        },
        "outputId": "2731c814-5e19-4851-e850-78c06965db37"
      },
      "source": [
        "### USING SCATTER PLOT TO VISUALLY SEE THE RELATION.\n",
        "\n",
        "room_price_df = pd.concat([airbnb[\"minimum_nights\"], airbnb[\"number_of_reviews\"]], axis=1)\n",
        "room_price_df.plot.scatter(x=\"minimum_nights\", y=\"number_of_reviews\", figsize=(5,5))"
      ],
      "execution_count": 37,
      "outputs": [
        {
          "output_type": "stream",
          "text": [
            "*c* argument looks like a single numeric RGB or RGBA sequence, which should be avoided as value-mapping will have precedence in case its length matches with *x* & *y*.  Please use the *color* keyword-argument or provide a 2-D array with a single row if you intend to specify the same RGB or RGBA value for all points.\n"
          ],
          "name": "stderr"
        },
        {
          "output_type": "execute_result",
          "data": {
            "text/plain": [
              "<matplotlib.axes._subplots.AxesSubplot at 0x7f1c3ccd1fd0>"
            ]
          },
          "metadata": {
            "tags": []
          },
          "execution_count": 37
        },
        {
          "output_type": "display_data",
          "data": {
            "image/png": "[encoded data removed]",
            "text/plain": [
              "<Figure size 360x360 with 1 Axes>"
            ]
          },
          "metadata": {
            "tags": []
          }
        }
      ]
    },
    {
      "cell_type": "markdown",
      "metadata": {
        "id": "EJltdGeyNsY0"
      },
      "source": [
        "LOOKING AT THE FIGURE ABOVE, WE CAN CONCLUDE CUSTOMERS MOSTLY STAYED AT ROOMS WHICH HAD \"***MINIMUM STAY OF 1 NIGHT***\", ALSO REVIEWED THESE ROOMS A LOT MORE."
      ]
    }
  ]
}